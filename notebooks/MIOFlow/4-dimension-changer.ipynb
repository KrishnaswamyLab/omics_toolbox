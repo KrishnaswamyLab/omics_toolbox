{
 "cells": [
  {
   "cell_type": "markdown",
   "metadata": {},
   "source": [
    "# Dimension Changer\n",
    "\n",
    "Prerequisites:\n",
    "- You have preprocessed your adata using some time smoothing method into the data/preprocessed directory. [notebook: 3-time-pseudotime-meld]: \n",
    "    - gene values on _X_ (adata.X)\n",
    "    - phate embeddings of the data on _obsm_ (ex.: adata.obsm['X_phate])\n",
    "    - phate visualization space of the data on _obsm_ (ex.: adata.obsm['X_phate_visualization])\n",
    "    - any extra metadata on _obs_ (ex.: adata.obs['time_label'], adata.obs['disease_progression'], etc...)\n",
    "    - smoothed time in the on _obsm_ (ex.: adata.obsm['smooth_time'])\n",
    "\n",
    "\n",
    "In this notebook, we will:\n",
    "- Train a dimension changer network.\n",
    "# TODO: DEFINE WHAT THE DIM CHANGER IS DOING"
   ]
  },
  {
   "cell_type": "code",
   "execution_count": 10,
   "metadata": {},
   "outputs": [
    {
     "name": "stdout",
     "output_type": "stream",
     "text": [
      "../../data/processed\n",
      "../../dimension_changer\n"
     ]
    }
   ],
   "source": [
    "import scanpy as sc\n",
    "import os\n",
    "\n",
    "PROCESSED_DATA_DIR = os.path.join('../../data', 'processed')\n",
    "DIMENSION_CHANGER_DIR = os.path.join('../../dimension_changer')\n",
    "os.makedirs(DIMENSION_CHANGER_DIR, exist_ok=True)\n",
    "\n",
    "print(PROCESSED_DATA_DIR)\n",
    "print(DIMENSION_CHANGER_DIR)"
   ]
  },
  {
   "cell_type": "markdown",
   "metadata": {},
   "source": [
    "We start by loading the data that has all the necessary variables"
   ]
  },
  {
   "cell_type": "code",
   "execution_count": 11,
   "metadata": {},
   "outputs": [
    {
     "data": {
      "text/plain": [
       "AnnData object with n_obs × n_vars = 17944 × 18019\n",
       "    obs: 'time_label', 'smooth_time'\n",
       "    uns: 'pca'\n",
       "    obsm: 'X_pca', 'X_phate', 'X_phate_visualization'\n",
       "    varm: 'PCs'"
      ]
     },
     "execution_count": 11,
     "metadata": {},
     "output_type": "execute_result"
    }
   ],
   "source": [
    "adata = sc.read(os.path.join(PROCESSED_DATA_DIR, 'adata_time.h5ad'))\n",
    "adata"
   ]
  },
  {
   "cell_type": "code",
   "execution_count": 12,
   "metadata": {},
   "outputs": [],
   "source": [
    "X_phate = adata.obsm['X_phate']\n",
    "X_pca = adata.obsm['X_pca']\n",
    "X_phate_vis = adata.obsm['X_phate_visualization']\n",
    "var_ratio = adata.uns['pca']['variance_ratio']"
   ]
  },
  {
   "cell_type": "markdown",
   "metadata": {},
   "source": [
    "The dimchanger is currently defined under omics_toolbox/dimchanger.py"
   ]
  },
  {
   "cell_type": "code",
   "execution_count": 15,
   "metadata": {},
   "outputs": [
    {
     "name": "stderr",
     "output_type": "stream",
     "text": [
      "Seed set to 42\n",
      "GPU available: True (mps), used: True\n",
      "TPU available: False, using: 0 TPU cores\n",
      "HPU available: False, using: 0 HPUs\n",
      "/Users/joaofelipe/miniconda3/envs/omics_toolbox/lib/python3.10/site-packages/pytorch_lightning/callbacks/model_checkpoint.py:654: Checkpoint directory /Users/joaofelipe/Yale/Omics Toolbox/4_Code/Omics Toolbox/notebooks/MIOFlow/checkpoints exists and is not empty.\n",
      "/Users/joaofelipe/miniconda3/envs/omics_toolbox/lib/python3.10/site-packages/torch/optim/lr_scheduler.py:62: UserWarning: The verbose parameter is deprecated. Please use get_last_lr() to access the learning rate.\n",
      "  warnings.warn(\n",
      "\n",
      "  | Name    | Type       | Params | Mode \n",
      "-----------------------------------------------\n",
      "0 | net     | Sequential | 3.2 K  | train\n",
      "1 | loss_fn | MSELoss    | 0      | train\n",
      "-----------------------------------------------\n",
      "3.2 K     Trainable params\n",
      "0         Non-trainable params\n",
      "3.2 K     Total params\n",
      "0.013     Total estimated model params size (MB)\n",
      "11        Modules in train mode\n",
      "0         Modules in eval mode\n"
     ]
    },
    {
     "name": "stdout",
     "output_type": "stream",
     "text": [
      "Sanity Checking: |          | 0/? [00:00<?, ?it/s]"
     ]
    },
    {
     "name": "stderr",
     "output_type": "stream",
     "text": [
      "/Users/joaofelipe/miniconda3/envs/omics_toolbox/lib/python3.10/site-packages/pytorch_lightning/trainer/connectors/data_connector.py:420: Consider setting `persistent_workers=True` in 'val_dataloader' to speed up the dataloader worker initialization.\n",
      "2025-04-17 18:35:01.174 | INFO     | omics_toolbox.config:<module>:11 - PROJ_ROOT path is: /Users/joaofelipe/Yale/Omics Toolbox/4_Code/Omics Toolbox\n",
      "2025-04-17 18:35:01.174 | INFO     | omics_toolbox.config:<module>:11 - PROJ_ROOT path is: /Users/joaofelipe/Yale/Omics Toolbox/4_Code/Omics Toolbox\n",
      "2025-04-17 18:35:01.174 | INFO     | omics_toolbox.config:<module>:11 - PROJ_ROOT path is: /Users/joaofelipe/Yale/Omics Toolbox/4_Code/Omics Toolbox\n",
      "2025-04-17 18:35:01.174 | INFO     | omics_toolbox.config:<module>:11 - PROJ_ROOT path is: /Users/joaofelipe/Yale/Omics Toolbox/4_Code/Omics Toolbox\n"
     ]
    },
    {
     "name": "stdout",
     "output_type": "stream",
     "text": [
      "                                                                           \r"
     ]
    },
    {
     "name": "stderr",
     "output_type": "stream",
     "text": [
      "/Users/joaofelipe/miniconda3/envs/omics_toolbox/lib/python3.10/site-packages/pytorch_lightning/trainer/connectors/data_connector.py:420: Consider setting `persistent_workers=True` in 'train_dataloader' to speed up the dataloader worker initialization.\n"
     ]
    },
    {
     "name": "stdout",
     "output_type": "stream",
     "text": [
      "Epoch 0:   0%|          | 0/392 [00:00<?, ?it/s] "
     ]
    },
    {
     "name": "stderr",
     "output_type": "stream",
     "text": [
      "2025-04-17 18:35:04.915 | INFO     | omics_toolbox.config:<module>:11 - PROJ_ROOT path is: /Users/joaofelipe/Yale/Omics Toolbox/4_Code/Omics Toolbox\n",
      "2025-04-17 18:35:04.915 | INFO     | omics_toolbox.config:<module>:11 - PROJ_ROOT path is: /Users/joaofelipe/Yale/Omics Toolbox/4_Code/Omics Toolbox\n",
      "2025-04-17 18:35:04.915 | INFO     | omics_toolbox.config:<module>:11 - PROJ_ROOT path is: /Users/joaofelipe/Yale/Omics Toolbox/4_Code/Omics Toolbox\n",
      "2025-04-17 18:35:04.915 | INFO     | omics_toolbox.config:<module>:11 - PROJ_ROOT path is: /Users/joaofelipe/Yale/Omics Toolbox/4_Code/Omics Toolbox\n"
     ]
    },
    {
     "name": "stdout",
     "output_type": "stream",
     "text": [
      "Epoch 0: 100%|██████████| 392/392 [00:06<00:00, 63.87it/s, v_num=2]"
     ]
    },
    {
     "name": "stderr",
     "output_type": "stream",
     "text": [
      "2025-04-17 18:35:11.326 | INFO     | omics_toolbox.config:<module>:11 - PROJ_ROOT path is: /Users/joaofelipe/Yale/Omics Toolbox/4_Code/Omics Toolbox\n",
      "2025-04-17 18:35:11.327 | INFO     | omics_toolbox.config:<module>:11 - PROJ_ROOT path is: /Users/joaofelipe/Yale/Omics Toolbox/4_Code/Omics Toolbox\n",
      "2025-04-17 18:35:11.327 | INFO     | omics_toolbox.config:<module>:11 - PROJ_ROOT path is: /Users/joaofelipe/Yale/Omics Toolbox/4_Code/Omics Toolbox\n",
      "2025-04-17 18:35:11.335 | INFO     | omics_toolbox.config:<module>:11 - PROJ_ROOT path is: /Users/joaofelipe/Yale/Omics Toolbox/4_Code/Omics Toolbox\n"
     ]
    },
    {
     "name": "stdout",
     "output_type": "stream",
     "text": [
      "Epoch 0: 100%|██████████| 392/392 [00:09<00:00, 41.38it/s, v_num=2, decoder/val_loss=0.257]"
     ]
    },
    {
     "name": "stderr",
     "output_type": "stream",
     "text": [
      "Metric decoder/val_loss improved. New best score: 0.257\n"
     ]
    },
    {
     "name": "stdout",
     "output_type": "stream",
     "text": [
      "Epoch 1:   0%|          | 0/392 [00:00<?, ?it/s, v_num=2, decoder/val_loss=0.257]          "
     ]
    },
    {
     "name": "stderr",
     "output_type": "stream",
     "text": [
      "2025-04-17 18:35:14.707 | INFO     | omics_toolbox.config:<module>:11 - PROJ_ROOT path is: /Users/joaofelipe/Yale/Omics Toolbox/4_Code/Omics Toolbox\n",
      "2025-04-17 18:35:14.712 | INFO     | omics_toolbox.config:<module>:11 - PROJ_ROOT path is: /Users/joaofelipe/Yale/Omics Toolbox/4_Code/Omics Toolbox\n",
      "2025-04-17 18:35:14.712 | INFO     | omics_toolbox.config:<module>:11 - PROJ_ROOT path is: /Users/joaofelipe/Yale/Omics Toolbox/4_Code/Omics Toolbox\n",
      "2025-04-17 18:35:14.721 | INFO     | omics_toolbox.config:<module>:11 - PROJ_ROOT path is: /Users/joaofelipe/Yale/Omics Toolbox/4_Code/Omics Toolbox\n"
     ]
    },
    {
     "name": "stdout",
     "output_type": "stream",
     "text": [
      "Epoch 1: 100%|██████████| 392/392 [00:06<00:00, 60.70it/s, v_num=2, decoder/val_loss=0.257]"
     ]
    },
    {
     "name": "stderr",
     "output_type": "stream",
     "text": [
      "2025-04-17 18:35:21.140 | INFO     | omics_toolbox.config:<module>:11 - PROJ_ROOT path is: /Users/joaofelipe/Yale/Omics Toolbox/4_Code/Omics Toolbox\n",
      "2025-04-17 18:35:21.142 | INFO     | omics_toolbox.config:<module>:11 - PROJ_ROOT path is: /Users/joaofelipe/Yale/Omics Toolbox/4_Code/Omics Toolbox\n",
      "2025-04-17 18:35:21.149 | INFO     | omics_toolbox.config:<module>:11 - PROJ_ROOT path is: /Users/joaofelipe/Yale/Omics Toolbox/4_Code/Omics Toolbox\n",
      "2025-04-17 18:35:21.157 | INFO     | omics_toolbox.config:<module>:11 - PROJ_ROOT path is: /Users/joaofelipe/Yale/Omics Toolbox/4_Code/Omics Toolbox\n"
     ]
    },
    {
     "name": "stdout",
     "output_type": "stream",
     "text": [
      "Epoch 1: 100%|██████████| 392/392 [00:09<00:00, 39.90it/s, v_num=2, decoder/val_loss=0.168]"
     ]
    },
    {
     "name": "stderr",
     "output_type": "stream",
     "text": [
      "Metric decoder/val_loss improved by 0.089 >= min_delta = 0.0001. New best score: 0.168\n"
     ]
    },
    {
     "name": "stdout",
     "output_type": "stream",
     "text": [
      "Epoch 2:   0%|          | 0/392 [00:00<?, ?it/s, v_num=2, decoder/val_loss=0.168]          "
     ]
    },
    {
     "name": "stderr",
     "output_type": "stream",
     "text": [
      "2025-04-17 18:35:24.639 | INFO     | omics_toolbox.config:<module>:11 - PROJ_ROOT path is: /Users/joaofelipe/Yale/Omics Toolbox/4_Code/Omics Toolbox\n",
      "2025-04-17 18:35:24.639 | INFO     | omics_toolbox.config:<module>:11 - PROJ_ROOT path is: /Users/joaofelipe/Yale/Omics Toolbox/4_Code/Omics Toolbox\n",
      "2025-04-17 18:35:24.663 | INFO     | omics_toolbox.config:<module>:11 - PROJ_ROOT path is: /Users/joaofelipe/Yale/Omics Toolbox/4_Code/Omics Toolbox\n",
      "2025-04-17 18:35:24.665 | INFO     | omics_toolbox.config:<module>:11 - PROJ_ROOT path is: /Users/joaofelipe/Yale/Omics Toolbox/4_Code/Omics Toolbox\n"
     ]
    },
    {
     "name": "stdout",
     "output_type": "stream",
     "text": [
      "Epoch 2: 100%|██████████| 392/392 [00:06<00:00, 62.81it/s, v_num=2, decoder/val_loss=0.168]"
     ]
    },
    {
     "name": "stderr",
     "output_type": "stream",
     "text": [
      "2025-04-17 18:35:30.807 | INFO     | omics_toolbox.config:<module>:11 - PROJ_ROOT path is: /Users/joaofelipe/Yale/Omics Toolbox/4_Code/Omics Toolbox\n",
      "2025-04-17 18:35:30.827 | INFO     | omics_toolbox.config:<module>:11 - PROJ_ROOT path is: /Users/joaofelipe/Yale/Omics Toolbox/4_Code/Omics Toolbox\n",
      "2025-04-17 18:35:30.829 | INFO     | omics_toolbox.config:<module>:11 - PROJ_ROOT path is: /Users/joaofelipe/Yale/Omics Toolbox/4_Code/Omics Toolbox\n",
      "2025-04-17 18:35:30.833 | INFO     | omics_toolbox.config:<module>:11 - PROJ_ROOT path is: /Users/joaofelipe/Yale/Omics Toolbox/4_Code/Omics Toolbox\n"
     ]
    },
    {
     "name": "stdout",
     "output_type": "stream",
     "text": [
      "Epoch 2: 100%|██████████| 392/392 [00:09<00:00, 40.85it/s, v_num=2, decoder/val_loss=0.153]"
     ]
    },
    {
     "name": "stderr",
     "output_type": "stream",
     "text": [
      "Metric decoder/val_loss improved by 0.014 >= min_delta = 0.0001. New best score: 0.153\n"
     ]
    },
    {
     "name": "stdout",
     "output_type": "stream",
     "text": [
      "Epoch 3:   0%|          | 0/392 [00:00<?, ?it/s, v_num=2, decoder/val_loss=0.153]          "
     ]
    },
    {
     "name": "stderr",
     "output_type": "stream",
     "text": [
      "2025-04-17 18:35:34.036 | INFO     | omics_toolbox.config:<module>:11 - PROJ_ROOT path is: /Users/joaofelipe/Yale/Omics Toolbox/4_Code/Omics Toolbox\n",
      "2025-04-17 18:35:34.057 | INFO     | omics_toolbox.config:<module>:11 - PROJ_ROOT path is: /Users/joaofelipe/Yale/Omics Toolbox/4_Code/Omics Toolbox\n",
      "2025-04-17 18:35:34.066 | INFO     | omics_toolbox.config:<module>:11 - PROJ_ROOT path is: /Users/joaofelipe/Yale/Omics Toolbox/4_Code/Omics Toolbox\n",
      "2025-04-17 18:35:34.106 | INFO     | omics_toolbox.config:<module>:11 - PROJ_ROOT path is: /Users/joaofelipe/Yale/Omics Toolbox/4_Code/Omics Toolbox\n"
     ]
    },
    {
     "name": "stdout",
     "output_type": "stream",
     "text": [
      "Epoch 3: 100%|██████████| 392/392 [00:05<00:00, 67.96it/s, v_num=2, decoder/val_loss=0.153]"
     ]
    },
    {
     "name": "stderr",
     "output_type": "stream",
     "text": [
      "2025-04-17 18:35:39.794 | INFO     | omics_toolbox.config:<module>:11 - PROJ_ROOT path is: /Users/joaofelipe/Yale/Omics Toolbox/4_Code/Omics Toolbox\n",
      "2025-04-17 18:35:39.794 | INFO     | omics_toolbox.config:<module>:11 - PROJ_ROOT path is: /Users/joaofelipe/Yale/Omics Toolbox/4_Code/Omics Toolbox\n",
      "2025-04-17 18:35:39.794 | INFO     | omics_toolbox.config:<module>:11 - PROJ_ROOT path is: /Users/joaofelipe/Yale/Omics Toolbox/4_Code/Omics Toolbox\n",
      "2025-04-17 18:35:39.804 | INFO     | omics_toolbox.config:<module>:11 - PROJ_ROOT path is: /Users/joaofelipe/Yale/Omics Toolbox/4_Code/Omics Toolbox\n"
     ]
    },
    {
     "name": "stdout",
     "output_type": "stream",
     "text": [
      "Epoch 4:   0%|          | 0/392 [00:00<?, ?it/s, v_num=2, decoder/val_loss=0.154]          "
     ]
    },
    {
     "name": "stderr",
     "output_type": "stream",
     "text": [
      "2025-04-17 18:35:43.017 | INFO     | omics_toolbox.config:<module>:11 - PROJ_ROOT path is: /Users/joaofelipe/Yale/Omics Toolbox/4_Code/Omics Toolbox\n",
      "2025-04-17 18:35:43.036 | INFO     | omics_toolbox.config:<module>:11 - PROJ_ROOT path is: /Users/joaofelipe/Yale/Omics Toolbox/4_Code/Omics Toolbox\n",
      "2025-04-17 18:35:43.041 | INFO     | omics_toolbox.config:<module>:11 - PROJ_ROOT path is: /Users/joaofelipe/Yale/Omics Toolbox/4_Code/Omics Toolbox\n",
      "2025-04-17 18:35:43.058 | INFO     | omics_toolbox.config:<module>:11 - PROJ_ROOT path is: /Users/joaofelipe/Yale/Omics Toolbox/4_Code/Omics Toolbox\n"
     ]
    },
    {
     "name": "stdout",
     "output_type": "stream",
     "text": [
      "Epoch 4: 100%|██████████| 392/392 [00:06<00:00, 64.83it/s, v_num=2, decoder/val_loss=0.154]"
     ]
    },
    {
     "name": "stderr",
     "output_type": "stream",
     "text": [
      "2025-04-17 18:35:49.059 | INFO     | omics_toolbox.config:<module>:11 - PROJ_ROOT path is: /Users/joaofelipe/Yale/Omics Toolbox/4_Code/Omics Toolbox\n",
      "2025-04-17 18:35:49.061 | INFO     | omics_toolbox.config:<module>:11 - PROJ_ROOT path is: /Users/joaofelipe/Yale/Omics Toolbox/4_Code/Omics Toolbox\n",
      "2025-04-17 18:35:49.065 | INFO     | omics_toolbox.config:<module>:11 - PROJ_ROOT path is: /Users/joaofelipe/Yale/Omics Toolbox/4_Code/Omics Toolbox\n",
      "2025-04-17 18:35:49.078 | INFO     | omics_toolbox.config:<module>:11 - PROJ_ROOT path is: /Users/joaofelipe/Yale/Omics Toolbox/4_Code/Omics Toolbox\n"
     ]
    },
    {
     "name": "stdout",
     "output_type": "stream",
     "text": [
      "Epoch 4: 100%|██████████| 392/392 [00:09<00:00, 42.20it/s, v_num=2, decoder/val_loss=0.150]"
     ]
    },
    {
     "name": "stderr",
     "output_type": "stream",
     "text": [
      "Metric decoder/val_loss improved by 0.004 >= min_delta = 0.0001. New best score: 0.150\n"
     ]
    },
    {
     "name": "stdout",
     "output_type": "stream",
     "text": [
      "Epoch 5:   0%|          | 0/392 [00:00<?, ?it/s, v_num=2, decoder/val_loss=0.150]          "
     ]
    },
    {
     "name": "stderr",
     "output_type": "stream",
     "text": [
      "2025-04-17 18:35:52.445 | INFO     | omics_toolbox.config:<module>:11 - PROJ_ROOT path is: /Users/joaofelipe/Yale/Omics Toolbox/4_Code/Omics Toolbox\n",
      "2025-04-17 18:35:52.445 | INFO     | omics_toolbox.config:<module>:11 - PROJ_ROOT path is: /Users/joaofelipe/Yale/Omics Toolbox/4_Code/Omics Toolbox\n",
      "2025-04-17 18:35:52.445 | INFO     | omics_toolbox.config:<module>:11 - PROJ_ROOT path is: /Users/joaofelipe/Yale/Omics Toolbox/4_Code/Omics Toolbox\n",
      "2025-04-17 18:35:52.451 | INFO     | omics_toolbox.config:<module>:11 - PROJ_ROOT path is: /Users/joaofelipe/Yale/Omics Toolbox/4_Code/Omics Toolbox\n"
     ]
    },
    {
     "name": "stdout",
     "output_type": "stream",
     "text": [
      "Epoch 5: 100%|██████████| 392/392 [00:05<00:00, 66.08it/s, v_num=2, decoder/val_loss=0.150]"
     ]
    },
    {
     "name": "stderr",
     "output_type": "stream",
     "text": [
      "2025-04-17 18:35:58.270 | INFO     | omics_toolbox.config:<module>:11 - PROJ_ROOT path is: /Users/joaofelipe/Yale/Omics Toolbox/4_Code/Omics Toolbox\n",
      "2025-04-17 18:35:58.270 | INFO     | omics_toolbox.config:<module>:11 - PROJ_ROOT path is: /Users/joaofelipe/Yale/Omics Toolbox/4_Code/Omics Toolbox\n",
      "2025-04-17 18:35:58.281 | INFO     | omics_toolbox.config:<module>:11 - PROJ_ROOT path is: /Users/joaofelipe/Yale/Omics Toolbox/4_Code/Omics Toolbox\n",
      "2025-04-17 18:35:58.288 | INFO     | omics_toolbox.config:<module>:11 - PROJ_ROOT path is: /Users/joaofelipe/Yale/Omics Toolbox/4_Code/Omics Toolbox\n"
     ]
    },
    {
     "name": "stdout",
     "output_type": "stream",
     "text": [
      "Epoch 5: 100%|██████████| 392/392 [00:09<00:00, 42.93it/s, v_num=2, decoder/val_loss=0.145]"
     ]
    },
    {
     "name": "stderr",
     "output_type": "stream",
     "text": [
      "Metric decoder/val_loss improved by 0.005 >= min_delta = 0.0001. New best score: 0.145\n"
     ]
    },
    {
     "name": "stdout",
     "output_type": "stream",
     "text": [
      "Epoch 6:   0%|          | 0/392 [00:00<?, ?it/s, v_num=2, decoder/val_loss=0.145]          "
     ]
    },
    {
     "name": "stderr",
     "output_type": "stream",
     "text": [
      "2025-04-17 18:36:01.436 | INFO     | omics_toolbox.config:<module>:11 - PROJ_ROOT path is: /Users/joaofelipe/Yale/Omics Toolbox/4_Code/Omics Toolbox\n",
      "2025-04-17 18:36:01.448 | INFO     | omics_toolbox.config:<module>:11 - PROJ_ROOT path is: /Users/joaofelipe/Yale/Omics Toolbox/4_Code/Omics Toolbox\n",
      "2025-04-17 18:36:01.449 | INFO     | omics_toolbox.config:<module>:11 - PROJ_ROOT path is: /Users/joaofelipe/Yale/Omics Toolbox/4_Code/Omics Toolbox\n",
      "2025-04-17 18:36:01.456 | INFO     | omics_toolbox.config:<module>:11 - PROJ_ROOT path is: /Users/joaofelipe/Yale/Omics Toolbox/4_Code/Omics Toolbox\n"
     ]
    },
    {
     "name": "stdout",
     "output_type": "stream",
     "text": [
      "Epoch 6: 100%|██████████| 392/392 [00:05<00:00, 66.83it/s, v_num=2, decoder/val_loss=0.145]"
     ]
    },
    {
     "name": "stderr",
     "output_type": "stream",
     "text": [
      "2025-04-17 18:36:07.415 | INFO     | omics_toolbox.config:<module>:11 - PROJ_ROOT path is: /Users/joaofelipe/Yale/Omics Toolbox/4_Code/Omics Toolbox\n",
      "2025-04-17 18:36:07.415 | INFO     | omics_toolbox.config:<module>:11 - PROJ_ROOT path is: /Users/joaofelipe/Yale/Omics Toolbox/4_Code/Omics Toolbox\n",
      "2025-04-17 18:36:07.416 | INFO     | omics_toolbox.config:<module>:11 - PROJ_ROOT path is: /Users/joaofelipe/Yale/Omics Toolbox/4_Code/Omics Toolbox\n",
      "2025-04-17 18:36:07.427 | INFO     | omics_toolbox.config:<module>:11 - PROJ_ROOT path is: /Users/joaofelipe/Yale/Omics Toolbox/4_Code/Omics Toolbox\n"
     ]
    },
    {
     "name": "stdout",
     "output_type": "stream",
     "text": [
      "Epoch 6: 100%|██████████| 392/392 [00:09<00:00, 42.13it/s, v_num=2, decoder/val_loss=0.143]"
     ]
    },
    {
     "name": "stderr",
     "output_type": "stream",
     "text": [
      "Metric decoder/val_loss improved by 0.001 >= min_delta = 0.0001. New best score: 0.143\n"
     ]
    },
    {
     "name": "stdout",
     "output_type": "stream",
     "text": [
      "Epoch 7:   0%|          | 0/392 [00:00<?, ?it/s, v_num=2, decoder/val_loss=0.143]          "
     ]
    },
    {
     "name": "stderr",
     "output_type": "stream",
     "text": [
      "2025-04-17 18:36:10.871 | INFO     | omics_toolbox.config:<module>:11 - PROJ_ROOT path is: /Users/joaofelipe/Yale/Omics Toolbox/4_Code/Omics Toolbox\n",
      "2025-04-17 18:36:10.872 | INFO     | omics_toolbox.config:<module>:11 - PROJ_ROOT path is: /Users/joaofelipe/Yale/Omics Toolbox/4_Code/Omics Toolbox\n",
      "2025-04-17 18:36:10.872 | INFO     | omics_toolbox.config:<module>:11 - PROJ_ROOT path is: /Users/joaofelipe/Yale/Omics Toolbox/4_Code/Omics Toolbox\n",
      "2025-04-17 18:36:10.874 | INFO     | omics_toolbox.config:<module>:11 - PROJ_ROOT path is: /Users/joaofelipe/Yale/Omics Toolbox/4_Code/Omics Toolbox\n"
     ]
    },
    {
     "name": "stdout",
     "output_type": "stream",
     "text": [
      "Epoch 7: 100%|██████████| 392/392 [00:06<00:00, 64.81it/s, v_num=2, decoder/val_loss=0.143]"
     ]
    },
    {
     "name": "stderr",
     "output_type": "stream",
     "text": [
      "2025-04-17 18:36:16.884 | INFO     | omics_toolbox.config:<module>:11 - PROJ_ROOT path is: /Users/joaofelipe/Yale/Omics Toolbox/4_Code/Omics Toolbox\n",
      "2025-04-17 18:36:16.884 | INFO     | omics_toolbox.config:<module>:11 - PROJ_ROOT path is: /Users/joaofelipe/Yale/Omics Toolbox/4_Code/Omics Toolbox\n",
      "2025-04-17 18:36:16.885 | INFO     | omics_toolbox.config:<module>:11 - PROJ_ROOT path is: /Users/joaofelipe/Yale/Omics Toolbox/4_Code/Omics Toolbox\n",
      "2025-04-17 18:36:16.889 | INFO     | omics_toolbox.config:<module>:11 - PROJ_ROOT path is: /Users/joaofelipe/Yale/Omics Toolbox/4_Code/Omics Toolbox\n"
     ]
    },
    {
     "name": "stdout",
     "output_type": "stream",
     "text": [
      "Epoch 7: 100%|██████████| 392/392 [00:09<00:00, 41.29it/s, v_num=2, decoder/val_loss=0.143]"
     ]
    },
    {
     "name": "stderr",
     "output_type": "stream",
     "text": [
      "Metric decoder/val_loss improved by 0.001 >= min_delta = 0.0001. New best score: 0.143\n"
     ]
    },
    {
     "name": "stdout",
     "output_type": "stream",
     "text": [
      "Epoch 8:   0%|          | 0/392 [00:00<?, ?it/s, v_num=2, decoder/val_loss=0.143]          "
     ]
    },
    {
     "name": "stderr",
     "output_type": "stream",
     "text": [
      "2025-04-17 18:36:20.342 | INFO     | omics_toolbox.config:<module>:11 - PROJ_ROOT path is: /Users/joaofelipe/Yale/Omics Toolbox/4_Code/Omics Toolbox\n",
      "2025-04-17 18:36:20.342 | INFO     | omics_toolbox.config:<module>:11 - PROJ_ROOT path is: /Users/joaofelipe/Yale/Omics Toolbox/4_Code/Omics Toolbox\n",
      "2025-04-17 18:36:20.361 | INFO     | omics_toolbox.config:<module>:11 - PROJ_ROOT path is: /Users/joaofelipe/Yale/Omics Toolbox/4_Code/Omics Toolbox\n",
      "2025-04-17 18:36:20.361 | INFO     | omics_toolbox.config:<module>:11 - PROJ_ROOT path is: /Users/joaofelipe/Yale/Omics Toolbox/4_Code/Omics Toolbox\n"
     ]
    },
    {
     "name": "stdout",
     "output_type": "stream",
     "text": [
      "Epoch 8: 100%|██████████| 392/392 [00:06<00:00, 61.15it/s, v_num=2, decoder/val_loss=0.143]"
     ]
    },
    {
     "name": "stderr",
     "output_type": "stream",
     "text": [
      "2025-04-17 18:36:26.814 | INFO     | omics_toolbox.config:<module>:11 - PROJ_ROOT path is: /Users/joaofelipe/Yale/Omics Toolbox/4_Code/Omics Toolbox\n",
      "2025-04-17 18:36:26.814 | INFO     | omics_toolbox.config:<module>:11 - PROJ_ROOT path is: /Users/joaofelipe/Yale/Omics Toolbox/4_Code/Omics Toolbox\n",
      "2025-04-17 18:36:26.826 | INFO     | omics_toolbox.config:<module>:11 - PROJ_ROOT path is: /Users/joaofelipe/Yale/Omics Toolbox/4_Code/Omics Toolbox\n",
      "2025-04-17 18:36:26.844 | INFO     | omics_toolbox.config:<module>:11 - PROJ_ROOT path is: /Users/joaofelipe/Yale/Omics Toolbox/4_Code/Omics Toolbox\n"
     ]
    },
    {
     "name": "stdout",
     "output_type": "stream",
     "text": [
      "Epoch 9:   0%|          | 0/392 [00:00<?, ?it/s, v_num=2, decoder/val_loss=0.143]          "
     ]
    },
    {
     "name": "stderr",
     "output_type": "stream",
     "text": [
      "2025-04-17 18:36:30.508 | INFO     | omics_toolbox.config:<module>:11 - PROJ_ROOT path is: /Users/joaofelipe/Yale/Omics Toolbox/4_Code/Omics Toolbox\n",
      "2025-04-17 18:36:30.510 | INFO     | omics_toolbox.config:<module>:11 - PROJ_ROOT path is: /Users/joaofelipe/Yale/Omics Toolbox/4_Code/Omics Toolbox\n",
      "2025-04-17 18:36:30.523 | INFO     | omics_toolbox.config:<module>:11 - PROJ_ROOT path is: /Users/joaofelipe/Yale/Omics Toolbox/4_Code/Omics Toolbox\n",
      "2025-04-17 18:36:30.523 | INFO     | omics_toolbox.config:<module>:11 - PROJ_ROOT path is: /Users/joaofelipe/Yale/Omics Toolbox/4_Code/Omics Toolbox\n"
     ]
    },
    {
     "name": "stdout",
     "output_type": "stream",
     "text": [
      "Epoch 9: 100%|██████████| 392/392 [00:06<00:00, 63.20it/s, v_num=2, decoder/val_loss=0.143]"
     ]
    },
    {
     "name": "stderr",
     "output_type": "stream",
     "text": [
      "2025-04-17 18:36:36.536 | INFO     | omics_toolbox.config:<module>:11 - PROJ_ROOT path is: /Users/joaofelipe/Yale/Omics Toolbox/4_Code/Omics Toolbox\n",
      "2025-04-17 18:36:36.542 | INFO     | omics_toolbox.config:<module>:11 - PROJ_ROOT path is: /Users/joaofelipe/Yale/Omics Toolbox/4_Code/Omics Toolbox\n",
      "2025-04-17 18:36:36.547 | INFO     | omics_toolbox.config:<module>:11 - PROJ_ROOT path is: /Users/joaofelipe/Yale/Omics Toolbox/4_Code/Omics Toolbox\n",
      "2025-04-17 18:36:36.561 | INFO     | omics_toolbox.config:<module>:11 - PROJ_ROOT path is: /Users/joaofelipe/Yale/Omics Toolbox/4_Code/Omics Toolbox\n"
     ]
    },
    {
     "name": "stdout",
     "output_type": "stream",
     "text": [
      "Epoch 9: 100%|██████████| 392/392 [00:09<00:00, 41.39it/s, v_num=2, decoder/val_loss=0.140]"
     ]
    },
    {
     "name": "stderr",
     "output_type": "stream",
     "text": [
      "Metric decoder/val_loss improved by 0.003 >= min_delta = 0.0001. New best score: 0.140\n"
     ]
    },
    {
     "name": "stdout",
     "output_type": "stream",
     "text": [
      "Epoch 10:   0%|          | 0/392 [00:00<?, ?it/s, v_num=2, decoder/val_loss=0.140]         "
     ]
    },
    {
     "name": "stderr",
     "output_type": "stream",
     "text": [
      "2025-04-17 18:36:39.949 | INFO     | omics_toolbox.config:<module>:11 - PROJ_ROOT path is: /Users/joaofelipe/Yale/Omics Toolbox/4_Code/Omics Toolbox\n",
      "2025-04-17 18:36:39.959 | INFO     | omics_toolbox.config:<module>:11 - PROJ_ROOT path is: /Users/joaofelipe/Yale/Omics Toolbox/4_Code/Omics Toolbox\n",
      "2025-04-17 18:36:39.969 | INFO     | omics_toolbox.config:<module>:11 - PROJ_ROOT path is: /Users/joaofelipe/Yale/Omics Toolbox/4_Code/Omics Toolbox\n",
      "2025-04-17 18:36:39.990 | INFO     | omics_toolbox.config:<module>:11 - PROJ_ROOT path is: /Users/joaofelipe/Yale/Omics Toolbox/4_Code/Omics Toolbox\n"
     ]
    },
    {
     "name": "stdout",
     "output_type": "stream",
     "text": [
      "Epoch 10: 100%|██████████| 392/392 [00:06<00:00, 62.37it/s, v_num=2, decoder/val_loss=0.140]"
     ]
    },
    {
     "name": "stderr",
     "output_type": "stream",
     "text": [
      "2025-04-17 18:36:46.279 | INFO     | omics_toolbox.config:<module>:11 - PROJ_ROOT path is: /Users/joaofelipe/Yale/Omics Toolbox/4_Code/Omics Toolbox\n",
      "2025-04-17 18:36:46.283 | INFO     | omics_toolbox.config:<module>:11 - PROJ_ROOT path is: /Users/joaofelipe/Yale/Omics Toolbox/4_Code/Omics Toolbox\n",
      "2025-04-17 18:36:46.285 | INFO     | omics_toolbox.config:<module>:11 - PROJ_ROOT path is: /Users/joaofelipe/Yale/Omics Toolbox/4_Code/Omics Toolbox\n",
      "2025-04-17 18:36:46.292 | INFO     | omics_toolbox.config:<module>:11 - PROJ_ROOT path is: /Users/joaofelipe/Yale/Omics Toolbox/4_Code/Omics Toolbox\n"
     ]
    },
    {
     "name": "stdout",
     "output_type": "stream",
     "text": [
      "Epoch 10: 100%|██████████| 392/392 [00:09<00:00, 40.07it/s, v_num=2, decoder/val_loss=0.139]"
     ]
    },
    {
     "name": "stderr",
     "output_type": "stream",
     "text": [
      "Metric decoder/val_loss improved by 0.001 >= min_delta = 0.0001. New best score: 0.139\n"
     ]
    },
    {
     "name": "stdout",
     "output_type": "stream",
     "text": [
      "Epoch 11:   0%|          | 0/392 [00:00<?, ?it/s, v_num=2, decoder/val_loss=0.139]          "
     ]
    },
    {
     "name": "stderr",
     "output_type": "stream",
     "text": [
      "2025-04-17 18:36:49.697 | INFO     | omics_toolbox.config:<module>:11 - PROJ_ROOT path is: /Users/joaofelipe/Yale/Omics Toolbox/4_Code/Omics Toolbox\n",
      "2025-04-17 18:36:49.717 | INFO     | omics_toolbox.config:<module>:11 - PROJ_ROOT path is: /Users/joaofelipe/Yale/Omics Toolbox/4_Code/Omics Toolbox\n",
      "2025-04-17 18:36:49.718 | INFO     | omics_toolbox.config:<module>:11 - PROJ_ROOT path is: /Users/joaofelipe/Yale/Omics Toolbox/4_Code/Omics Toolbox\n",
      "2025-04-17 18:36:49.727 | INFO     | omics_toolbox.config:<module>:11 - PROJ_ROOT path is: /Users/joaofelipe/Yale/Omics Toolbox/4_Code/Omics Toolbox\n"
     ]
    },
    {
     "name": "stdout",
     "output_type": "stream",
     "text": [
      "Epoch 11: 100%|██████████| 392/392 [00:06<00:00, 62.81it/s, v_num=2, decoder/val_loss=0.139]"
     ]
    },
    {
     "name": "stderr",
     "output_type": "stream",
     "text": [
      "2025-04-17 18:36:56.034 | INFO     | omics_toolbox.config:<module>:11 - PROJ_ROOT path is: /Users/joaofelipe/Yale/Omics Toolbox/4_Code/Omics Toolbox\n",
      "2025-04-17 18:36:56.039 | INFO     | omics_toolbox.config:<module>:11 - PROJ_ROOT path is: /Users/joaofelipe/Yale/Omics Toolbox/4_Code/Omics Toolbox\n",
      "2025-04-17 18:36:56.043 | INFO     | omics_toolbox.config:<module>:11 - PROJ_ROOT path is: /Users/joaofelipe/Yale/Omics Toolbox/4_Code/Omics Toolbox\n",
      "2025-04-17 18:36:56.043 | INFO     | omics_toolbox.config:<module>:11 - PROJ_ROOT path is: /Users/joaofelipe/Yale/Omics Toolbox/4_Code/Omics Toolbox\n"
     ]
    },
    {
     "name": "stdout",
     "output_type": "stream",
     "text": [
      "Epoch 12:   0%|          | 0/392 [00:00<?, ?it/s, v_num=2, decoder/val_loss=0.141]          "
     ]
    },
    {
     "name": "stderr",
     "output_type": "stream",
     "text": [
      "2025-04-17 18:36:59.453 | INFO     | omics_toolbox.config:<module>:11 - PROJ_ROOT path is: /Users/joaofelipe/Yale/Omics Toolbox/4_Code/Omics Toolbox\n",
      "2025-04-17 18:36:59.453 | INFO     | omics_toolbox.config:<module>:11 - PROJ_ROOT path is: /Users/joaofelipe/Yale/Omics Toolbox/4_Code/Omics Toolbox\n",
      "2025-04-17 18:36:59.463 | INFO     | omics_toolbox.config:<module>:11 - PROJ_ROOT path is: /Users/joaofelipe/Yale/Omics Toolbox/4_Code/Omics Toolbox\n",
      "2025-04-17 18:36:59.479 | INFO     | omics_toolbox.config:<module>:11 - PROJ_ROOT path is: /Users/joaofelipe/Yale/Omics Toolbox/4_Code/Omics Toolbox\n"
     ]
    },
    {
     "name": "stdout",
     "output_type": "stream",
     "text": [
      "Epoch 12: 100%|██████████| 392/392 [00:06<00:00, 64.23it/s, v_num=2, decoder/val_loss=0.141]"
     ]
    },
    {
     "name": "stderr",
     "output_type": "stream",
     "text": [
      "2025-04-17 18:37:05.640 | INFO     | omics_toolbox.config:<module>:11 - PROJ_ROOT path is: /Users/joaofelipe/Yale/Omics Toolbox/4_Code/Omics Toolbox\n",
      "2025-04-17 18:37:05.640 | INFO     | omics_toolbox.config:<module>:11 - PROJ_ROOT path is: /Users/joaofelipe/Yale/Omics Toolbox/4_Code/Omics Toolbox\n",
      "2025-04-17 18:37:05.652 | INFO     | omics_toolbox.config:<module>:11 - PROJ_ROOT path is: /Users/joaofelipe/Yale/Omics Toolbox/4_Code/Omics Toolbox\n",
      "2025-04-17 18:37:05.656 | INFO     | omics_toolbox.config:<module>:11 - PROJ_ROOT path is: /Users/joaofelipe/Yale/Omics Toolbox/4_Code/Omics Toolbox\n"
     ]
    },
    {
     "name": "stdout",
     "output_type": "stream",
     "text": [
      "Epoch 12: 100%|██████████| 392/392 [00:09<00:00, 41.49it/s, v_num=2, decoder/val_loss=0.137]"
     ]
    },
    {
     "name": "stderr",
     "output_type": "stream",
     "text": [
      "Metric decoder/val_loss improved by 0.002 >= min_delta = 0.0001. New best score: 0.137\n"
     ]
    },
    {
     "name": "stdout",
     "output_type": "stream",
     "text": [
      "Epoch 13:   0%|          | 0/392 [00:00<?, ?it/s, v_num=2, decoder/val_loss=0.137]          "
     ]
    },
    {
     "name": "stderr",
     "output_type": "stream",
     "text": [
      "2025-04-17 18:37:08.821 | INFO     | omics_toolbox.config:<module>:11 - PROJ_ROOT path is: /Users/joaofelipe/Yale/Omics Toolbox/4_Code/Omics Toolbox\n",
      "2025-04-17 18:37:08.821 | INFO     | omics_toolbox.config:<module>:11 - PROJ_ROOT path is: /Users/joaofelipe/Yale/Omics Toolbox/4_Code/Omics Toolbox\n",
      "2025-04-17 18:37:08.831 | INFO     | omics_toolbox.config:<module>:11 - PROJ_ROOT path is: /Users/joaofelipe/Yale/Omics Toolbox/4_Code/Omics Toolbox\n",
      "2025-04-17 18:37:08.874 | INFO     | omics_toolbox.config:<module>:11 - PROJ_ROOT path is: /Users/joaofelipe/Yale/Omics Toolbox/4_Code/Omics Toolbox\n"
     ]
    },
    {
     "name": "stdout",
     "output_type": "stream",
     "text": [
      "Epoch 13: 100%|██████████| 392/392 [00:05<00:00, 68.14it/s, v_num=2, decoder/val_loss=0.137]"
     ]
    },
    {
     "name": "stderr",
     "output_type": "stream",
     "text": [
      "2025-04-17 18:37:14.649 | INFO     | omics_toolbox.config:<module>:11 - PROJ_ROOT path is: /Users/joaofelipe/Yale/Omics Toolbox/4_Code/Omics Toolbox\n",
      "2025-04-17 18:37:14.649 | INFO     | omics_toolbox.config:<module>:11 - PROJ_ROOT path is: /Users/joaofelipe/Yale/Omics Toolbox/4_Code/Omics Toolbox\n",
      "2025-04-17 18:37:14.657 | INFO     | omics_toolbox.config:<module>:11 - PROJ_ROOT path is: /Users/joaofelipe/Yale/Omics Toolbox/4_Code/Omics Toolbox\n",
      "2025-04-17 18:37:14.657 | INFO     | omics_toolbox.config:<module>:11 - PROJ_ROOT path is: /Users/joaofelipe/Yale/Omics Toolbox/4_Code/Omics Toolbox\n"
     ]
    },
    {
     "name": "stdout",
     "output_type": "stream",
     "text": [
      "Epoch 14:   0%|          | 0/392 [00:00<?, ?it/s, v_num=2, decoder/val_loss=0.139]          "
     ]
    },
    {
     "name": "stderr",
     "output_type": "stream",
     "text": [
      "2025-04-17 18:37:17.718 | INFO     | omics_toolbox.config:<module>:11 - PROJ_ROOT path is: /Users/joaofelipe/Yale/Omics Toolbox/4_Code/Omics Toolbox\n",
      "2025-04-17 18:37:17.776 | INFO     | omics_toolbox.config:<module>:11 - PROJ_ROOT path is: /Users/joaofelipe/Yale/Omics Toolbox/4_Code/Omics Toolbox\n",
      "2025-04-17 18:37:17.781 | INFO     | omics_toolbox.config:<module>:11 - PROJ_ROOT path is: /Users/joaofelipe/Yale/Omics Toolbox/4_Code/Omics Toolbox\n",
      "2025-04-17 18:37:17.783 | INFO     | omics_toolbox.config:<module>:11 - PROJ_ROOT path is: /Users/joaofelipe/Yale/Omics Toolbox/4_Code/Omics Toolbox\n"
     ]
    },
    {
     "name": "stdout",
     "output_type": "stream",
     "text": [
      "Epoch 14: 100%|██████████| 392/392 [00:06<00:00, 64.24it/s, v_num=2, decoder/val_loss=0.139]"
     ]
    },
    {
     "name": "stderr",
     "output_type": "stream",
     "text": [
      "2025-04-17 18:37:23.926 | INFO     | omics_toolbox.config:<module>:11 - PROJ_ROOT path is: /Users/joaofelipe/Yale/Omics Toolbox/4_Code/Omics Toolbox\n",
      "2025-04-17 18:37:23.936 | INFO     | omics_toolbox.config:<module>:11 - PROJ_ROOT path is: /Users/joaofelipe/Yale/Omics Toolbox/4_Code/Omics Toolbox\n",
      "2025-04-17 18:37:23.936 | INFO     | omics_toolbox.config:<module>:11 - PROJ_ROOT path is: /Users/joaofelipe/Yale/Omics Toolbox/4_Code/Omics Toolbox\n",
      "2025-04-17 18:37:23.938 | INFO     | omics_toolbox.config:<module>:11 - PROJ_ROOT path is: /Users/joaofelipe/Yale/Omics Toolbox/4_Code/Omics Toolbox\n"
     ]
    },
    {
     "name": "stdout",
     "output_type": "stream",
     "text": [
      "Epoch 14: 100%|██████████| 392/392 [00:09<00:00, 41.40it/s, v_num=2, decoder/val_loss=0.136]"
     ]
    },
    {
     "name": "stderr",
     "output_type": "stream",
     "text": [
      "Metric decoder/val_loss improved by 0.001 >= min_delta = 0.0001. New best score: 0.136\n"
     ]
    },
    {
     "name": "stdout",
     "output_type": "stream",
     "text": [
      "Epoch 15:   0%|          | 0/392 [00:00<?, ?it/s, v_num=2, decoder/val_loss=0.136]          "
     ]
    },
    {
     "name": "stderr",
     "output_type": "stream",
     "text": [
      "2025-04-17 18:37:27.384 | INFO     | omics_toolbox.config:<module>:11 - PROJ_ROOT path is: /Users/joaofelipe/Yale/Omics Toolbox/4_Code/Omics Toolbox\n",
      "2025-04-17 18:37:27.384 | INFO     | omics_toolbox.config:<module>:11 - PROJ_ROOT path is: /Users/joaofelipe/Yale/Omics Toolbox/4_Code/Omics Toolbox\n",
      "2025-04-17 18:37:27.397 | INFO     | omics_toolbox.config:<module>:11 - PROJ_ROOT path is: /Users/joaofelipe/Yale/Omics Toolbox/4_Code/Omics Toolbox\n",
      "2025-04-17 18:37:27.417 | INFO     | omics_toolbox.config:<module>:11 - PROJ_ROOT path is: /Users/joaofelipe/Yale/Omics Toolbox/4_Code/Omics Toolbox\n"
     ]
    },
    {
     "name": "stdout",
     "output_type": "stream",
     "text": [
      "Epoch 15: 100%|██████████| 392/392 [00:06<00:00, 62.59it/s, v_num=2, decoder/val_loss=0.136]"
     ]
    },
    {
     "name": "stderr",
     "output_type": "stream",
     "text": [
      "2025-04-17 18:37:33.691 | INFO     | omics_toolbox.config:<module>:11 - PROJ_ROOT path is: /Users/joaofelipe/Yale/Omics Toolbox/4_Code/Omics Toolbox\n",
      "2025-04-17 18:37:33.692 | INFO     | omics_toolbox.config:<module>:11 - PROJ_ROOT path is: /Users/joaofelipe/Yale/Omics Toolbox/4_Code/Omics Toolbox\n",
      "2025-04-17 18:37:33.709 | INFO     | omics_toolbox.config:<module>:11 - PROJ_ROOT path is: /Users/joaofelipe/Yale/Omics Toolbox/4_Code/Omics Toolbox\n",
      "2025-04-17 18:37:33.714 | INFO     | omics_toolbox.config:<module>:11 - PROJ_ROOT path is: /Users/joaofelipe/Yale/Omics Toolbox/4_Code/Omics Toolbox\n"
     ]
    },
    {
     "name": "stdout",
     "output_type": "stream",
     "text": [
      "Epoch 16:   0%|          | 0/392 [00:00<?, ?it/s, v_num=2, decoder/val_loss=0.138]          "
     ]
    },
    {
     "name": "stderr",
     "output_type": "stream",
     "text": [
      "2025-04-17 18:37:37.093 | INFO     | omics_toolbox.config:<module>:11 - PROJ_ROOT path is: /Users/joaofelipe/Yale/Omics Toolbox/4_Code/Omics Toolbox\n",
      "2025-04-17 18:37:37.104 | INFO     | omics_toolbox.config:<module>:11 - PROJ_ROOT path is: /Users/joaofelipe/Yale/Omics Toolbox/4_Code/Omics Toolbox\n",
      "2025-04-17 18:37:37.104 | INFO     | omics_toolbox.config:<module>:11 - PROJ_ROOT path is: /Users/joaofelipe/Yale/Omics Toolbox/4_Code/Omics Toolbox\n",
      "2025-04-17 18:37:37.116 | INFO     | omics_toolbox.config:<module>:11 - PROJ_ROOT path is: /Users/joaofelipe/Yale/Omics Toolbox/4_Code/Omics Toolbox\n"
     ]
    },
    {
     "name": "stdout",
     "output_type": "stream",
     "text": [
      "Epoch 16: 100%|██████████| 392/392 [00:06<00:00, 63.18it/s, v_num=2, decoder/val_loss=0.138]"
     ]
    },
    {
     "name": "stderr",
     "output_type": "stream",
     "text": [
      "2025-04-17 18:37:43.429 | INFO     | omics_toolbox.config:<module>:11 - PROJ_ROOT path is: /Users/joaofelipe/Yale/Omics Toolbox/4_Code/Omics Toolbox\n",
      "2025-04-17 18:37:43.431 | INFO     | omics_toolbox.config:<module>:11 - PROJ_ROOT path is: /Users/joaofelipe/Yale/Omics Toolbox/4_Code/Omics Toolbox\n",
      "2025-04-17 18:37:43.437 | INFO     | omics_toolbox.config:<module>:11 - PROJ_ROOT path is: /Users/joaofelipe/Yale/Omics Toolbox/4_Code/Omics Toolbox\n",
      "2025-04-17 18:37:43.442 | INFO     | omics_toolbox.config:<module>:11 - PROJ_ROOT path is: /Users/joaofelipe/Yale/Omics Toolbox/4_Code/Omics Toolbox\n"
     ]
    },
    {
     "name": "stdout",
     "output_type": "stream",
     "text": [
      "Epoch 16: 100%|██████████| 392/392 [00:09<00:00, 40.48it/s, v_num=2, decoder/val_loss=0.136]"
     ]
    },
    {
     "name": "stderr",
     "output_type": "stream",
     "text": [
      "Metric decoder/val_loss improved by 0.000 >= min_delta = 0.0001. New best score: 0.136\n"
     ]
    },
    {
     "name": "stdout",
     "output_type": "stream",
     "text": [
      "Epoch 17:   0%|          | 0/392 [00:00<?, ?it/s, v_num=2, decoder/val_loss=0.136]          "
     ]
    },
    {
     "name": "stderr",
     "output_type": "stream",
     "text": [
      "2025-04-17 18:37:46.798 | INFO     | omics_toolbox.config:<module>:11 - PROJ_ROOT path is: /Users/joaofelipe/Yale/Omics Toolbox/4_Code/Omics Toolbox\n",
      "2025-04-17 18:37:46.799 | INFO     | omics_toolbox.config:<module>:11 - PROJ_ROOT path is: /Users/joaofelipe/Yale/Omics Toolbox/4_Code/Omics Toolbox\n",
      "2025-04-17 18:37:46.809 | INFO     | omics_toolbox.config:<module>:11 - PROJ_ROOT path is: /Users/joaofelipe/Yale/Omics Toolbox/4_Code/Omics Toolbox\n",
      "2025-04-17 18:37:46.809 | INFO     | omics_toolbox.config:<module>:11 - PROJ_ROOT path is: /Users/joaofelipe/Yale/Omics Toolbox/4_Code/Omics Toolbox\n"
     ]
    },
    {
     "name": "stdout",
     "output_type": "stream",
     "text": [
      "Epoch 17: 100%|██████████| 392/392 [00:06<00:00, 64.80it/s, v_num=2, decoder/val_loss=0.136]"
     ]
    },
    {
     "name": "stderr",
     "output_type": "stream",
     "text": [
      "2025-04-17 18:37:52.900 | INFO     | omics_toolbox.config:<module>:11 - PROJ_ROOT path is: /Users/joaofelipe/Yale/Omics Toolbox/4_Code/Omics Toolbox\n",
      "2025-04-17 18:37:52.900 | INFO     | omics_toolbox.config:<module>:11 - PROJ_ROOT path is: /Users/joaofelipe/Yale/Omics Toolbox/4_Code/Omics Toolbox\n",
      "2025-04-17 18:37:52.900 | INFO     | omics_toolbox.config:<module>:11 - PROJ_ROOT path is: /Users/joaofelipe/Yale/Omics Toolbox/4_Code/Omics Toolbox\n",
      "2025-04-17 18:37:52.916 | INFO     | omics_toolbox.config:<module>:11 - PROJ_ROOT path is: /Users/joaofelipe/Yale/Omics Toolbox/4_Code/Omics Toolbox\n"
     ]
    },
    {
     "name": "stdout",
     "output_type": "stream",
     "text": [
      "Epoch 18:   0%|          | 0/392 [00:00<?, ?it/s, v_num=2, decoder/val_loss=0.139]          "
     ]
    },
    {
     "name": "stderr",
     "output_type": "stream",
     "text": [
      "2025-04-17 18:37:56.316 | INFO     | omics_toolbox.config:<module>:11 - PROJ_ROOT path is: /Users/joaofelipe/Yale/Omics Toolbox/4_Code/Omics Toolbox\n",
      "2025-04-17 18:37:56.326 | INFO     | omics_toolbox.config:<module>:11 - PROJ_ROOT path is: /Users/joaofelipe/Yale/Omics Toolbox/4_Code/Omics Toolbox\n",
      "2025-04-17 18:37:56.326 | INFO     | omics_toolbox.config:<module>:11 - PROJ_ROOT path is: /Users/joaofelipe/Yale/Omics Toolbox/4_Code/Omics Toolbox\n",
      "2025-04-17 18:37:56.327 | INFO     | omics_toolbox.config:<module>:11 - PROJ_ROOT path is: /Users/joaofelipe/Yale/Omics Toolbox/4_Code/Omics Toolbox\n"
     ]
    },
    {
     "name": "stdout",
     "output_type": "stream",
     "text": [
      "Epoch 18: 100%|██████████| 392/392 [00:06<00:00, 61.54it/s, v_num=2, decoder/val_loss=0.139]"
     ]
    },
    {
     "name": "stderr",
     "output_type": "stream",
     "text": [
      "2025-04-17 18:38:02.609 | INFO     | omics_toolbox.config:<module>:11 - PROJ_ROOT path is: /Users/joaofelipe/Yale/Omics Toolbox/4_Code/Omics Toolbox\n",
      "2025-04-17 18:38:02.609 | INFO     | omics_toolbox.config:<module>:11 - PROJ_ROOT path is: /Users/joaofelipe/Yale/Omics Toolbox/4_Code/Omics Toolbox\n",
      "2025-04-17 18:38:02.609 | INFO     | omics_toolbox.config:<module>:11 - PROJ_ROOT path is: /Users/joaofelipe/Yale/Omics Toolbox/4_Code/Omics Toolbox\n",
      "2025-04-17 18:38:02.614 | INFO     | omics_toolbox.config:<module>:11 - PROJ_ROOT path is: /Users/joaofelipe/Yale/Omics Toolbox/4_Code/Omics Toolbox\n"
     ]
    },
    {
     "name": "stdout",
     "output_type": "stream",
     "text": [
      "Epoch 18: 100%|██████████| 392/392 [00:09<00:00, 40.42it/s, v_num=2, decoder/val_loss=0.135]"
     ]
    },
    {
     "name": "stderr",
     "output_type": "stream",
     "text": [
      "Metric decoder/val_loss improved by 0.000 >= min_delta = 0.0001. New best score: 0.135\n"
     ]
    },
    {
     "name": "stdout",
     "output_type": "stream",
     "text": [
      "Epoch 19:   0%|          | 0/392 [00:00<?, ?it/s, v_num=2, decoder/val_loss=0.135]          "
     ]
    },
    {
     "name": "stderr",
     "output_type": "stream",
     "text": [
      "2025-04-17 18:38:05.971 | INFO     | omics_toolbox.config:<module>:11 - PROJ_ROOT path is: /Users/joaofelipe/Yale/Omics Toolbox/4_Code/Omics Toolbox\n",
      "2025-04-17 18:38:06.002 | INFO     | omics_toolbox.config:<module>:11 - PROJ_ROOT path is: /Users/joaofelipe/Yale/Omics Toolbox/4_Code/Omics Toolbox\n",
      "2025-04-17 18:38:06.002 | INFO     | omics_toolbox.config:<module>:11 - PROJ_ROOT path is: /Users/joaofelipe/Yale/Omics Toolbox/4_Code/Omics Toolbox\n",
      "2025-04-17 18:38:06.002 | INFO     | omics_toolbox.config:<module>:11 - PROJ_ROOT path is: /Users/joaofelipe/Yale/Omics Toolbox/4_Code/Omics Toolbox\n"
     ]
    },
    {
     "name": "stdout",
     "output_type": "stream",
     "text": [
      "Epoch 19: 100%|██████████| 392/392 [00:06<00:00, 63.46it/s, v_num=2, decoder/val_loss=0.135]"
     ]
    },
    {
     "name": "stderr",
     "output_type": "stream",
     "text": [
      "2025-04-17 18:38:12.079 | INFO     | omics_toolbox.config:<module>:11 - PROJ_ROOT path is: /Users/joaofelipe/Yale/Omics Toolbox/4_Code/Omics Toolbox\n",
      "2025-04-17 18:38:12.082 | INFO     | omics_toolbox.config:<module>:11 - PROJ_ROOT path is: /Users/joaofelipe/Yale/Omics Toolbox/4_Code/Omics Toolbox\n",
      "2025-04-17 18:38:12.090 | INFO     | omics_toolbox.config:<module>:11 - PROJ_ROOT path is: /Users/joaofelipe/Yale/Omics Toolbox/4_Code/Omics Toolbox\n",
      "2025-04-17 18:38:12.106 | INFO     | omics_toolbox.config:<module>:11 - PROJ_ROOT path is: /Users/joaofelipe/Yale/Omics Toolbox/4_Code/Omics Toolbox\n"
     ]
    },
    {
     "name": "stdout",
     "output_type": "stream",
     "text": [
      "Epoch 19: 100%|██████████| 392/392 [00:09<00:00, 41.40it/s, v_num=2, decoder/val_loss=0.134]"
     ]
    },
    {
     "name": "stderr",
     "output_type": "stream",
     "text": [
      "Metric decoder/val_loss improved by 0.001 >= min_delta = 0.0001. New best score: 0.134\n"
     ]
    },
    {
     "name": "stdout",
     "output_type": "stream",
     "text": [
      "Epoch 20:   0%|          | 0/392 [00:00<?, ?it/s, v_num=2, decoder/val_loss=0.134]          "
     ]
    },
    {
     "name": "stderr",
     "output_type": "stream",
     "text": [
      "2025-04-17 18:38:15.389 | INFO     | omics_toolbox.config:<module>:11 - PROJ_ROOT path is: /Users/joaofelipe/Yale/Omics Toolbox/4_Code/Omics Toolbox\n",
      "2025-04-17 18:38:15.400 | INFO     | omics_toolbox.config:<module>:11 - PROJ_ROOT path is: /Users/joaofelipe/Yale/Omics Toolbox/4_Code/Omics Toolbox\n",
      "2025-04-17 18:38:15.403 | INFO     | omics_toolbox.config:<module>:11 - PROJ_ROOT path is: /Users/joaofelipe/Yale/Omics Toolbox/4_Code/Omics Toolbox\n",
      "2025-04-17 18:38:15.406 | INFO     | omics_toolbox.config:<module>:11 - PROJ_ROOT path is: /Users/joaofelipe/Yale/Omics Toolbox/4_Code/Omics Toolbox\n"
     ]
    },
    {
     "name": "stdout",
     "output_type": "stream",
     "text": [
      "Epoch 20: 100%|██████████| 392/392 [00:06<00:00, 62.37it/s, v_num=2, decoder/val_loss=0.134]"
     ]
    },
    {
     "name": "stderr",
     "output_type": "stream",
     "text": [
      "2025-04-17 18:38:21.683 | INFO     | omics_toolbox.config:<module>:11 - PROJ_ROOT path is: /Users/joaofelipe/Yale/Omics Toolbox/4_Code/Omics Toolbox\n",
      "2025-04-17 18:38:21.686 | INFO     | omics_toolbox.config:<module>:11 - PROJ_ROOT path is: /Users/joaofelipe/Yale/Omics Toolbox/4_Code/Omics Toolbox\n",
      "2025-04-17 18:38:21.698 | INFO     | omics_toolbox.config:<module>:11 - PROJ_ROOT path is: /Users/joaofelipe/Yale/Omics Toolbox/4_Code/Omics Toolbox\n",
      "2025-04-17 18:38:21.699 | INFO     | omics_toolbox.config:<module>:11 - PROJ_ROOT path is: /Users/joaofelipe/Yale/Omics Toolbox/4_Code/Omics Toolbox\n"
     ]
    },
    {
     "name": "stdout",
     "output_type": "stream",
     "text": [
      "Epoch 21:   0%|          | 0/392 [00:00<?, ?it/s, v_num=2, decoder/val_loss=0.135]          "
     ]
    },
    {
     "name": "stderr",
     "output_type": "stream",
     "text": [
      "2025-04-17 18:38:24.869 | INFO     | omics_toolbox.config:<module>:11 - PROJ_ROOT path is: /Users/joaofelipe/Yale/Omics Toolbox/4_Code/Omics Toolbox\n",
      "2025-04-17 18:38:24.891 | INFO     | omics_toolbox.config:<module>:11 - PROJ_ROOT path is: /Users/joaofelipe/Yale/Omics Toolbox/4_Code/Omics Toolbox\n",
      "2025-04-17 18:38:24.896 | INFO     | omics_toolbox.config:<module>:11 - PROJ_ROOT path is: /Users/joaofelipe/Yale/Omics Toolbox/4_Code/Omics Toolbox\n",
      "2025-04-17 18:38:24.912 | INFO     | omics_toolbox.config:<module>:11 - PROJ_ROOT path is: /Users/joaofelipe/Yale/Omics Toolbox/4_Code/Omics Toolbox\n"
     ]
    },
    {
     "name": "stdout",
     "output_type": "stream",
     "text": [
      "Epoch 21: 100%|██████████| 392/392 [00:05<00:00, 67.22it/s, v_num=2, decoder/val_loss=0.135]"
     ]
    },
    {
     "name": "stderr",
     "output_type": "stream",
     "text": [
      "2025-04-17 18:38:30.686 | INFO     | omics_toolbox.config:<module>:11 - PROJ_ROOT path is: /Users/joaofelipe/Yale/Omics Toolbox/4_Code/Omics Toolbox\n",
      "2025-04-17 18:38:30.697 | INFO     | omics_toolbox.config:<module>:11 - PROJ_ROOT path is: /Users/joaofelipe/Yale/Omics Toolbox/4_Code/Omics Toolbox\n",
      "2025-04-17 18:38:30.700 | INFO     | omics_toolbox.config:<module>:11 - PROJ_ROOT path is: /Users/joaofelipe/Yale/Omics Toolbox/4_Code/Omics Toolbox\n",
      "2025-04-17 18:38:30.711 | INFO     | omics_toolbox.config:<module>:11 - PROJ_ROOT path is: /Users/joaofelipe/Yale/Omics Toolbox/4_Code/Omics Toolbox\n"
     ]
    },
    {
     "name": "stdout",
     "output_type": "stream",
     "text": [
      "Epoch 22:   0%|          | 0/392 [00:00<?, ?it/s, v_num=2, decoder/val_loss=0.135]          "
     ]
    },
    {
     "name": "stderr",
     "output_type": "stream",
     "text": [
      "2025-04-17 18:38:33.839 | INFO     | omics_toolbox.config:<module>:11 - PROJ_ROOT path is: /Users/joaofelipe/Yale/Omics Toolbox/4_Code/Omics Toolbox\n",
      "2025-04-17 18:38:33.839 | INFO     | omics_toolbox.config:<module>:11 - PROJ_ROOT path is: /Users/joaofelipe/Yale/Omics Toolbox/4_Code/Omics Toolbox\n",
      "2025-04-17 18:38:33.839 | INFO     | omics_toolbox.config:<module>:11 - PROJ_ROOT path is: /Users/joaofelipe/Yale/Omics Toolbox/4_Code/Omics Toolbox\n",
      "2025-04-17 18:38:33.868 | INFO     | omics_toolbox.config:<module>:11 - PROJ_ROOT path is: /Users/joaofelipe/Yale/Omics Toolbox/4_Code/Omics Toolbox\n"
     ]
    },
    {
     "name": "stdout",
     "output_type": "stream",
     "text": [
      "Epoch 22: 100%|██████████| 392/392 [00:05<00:00, 67.57it/s, v_num=2, decoder/val_loss=0.135]"
     ]
    },
    {
     "name": "stderr",
     "output_type": "stream",
     "text": [
      "2025-04-17 18:38:39.644 | INFO     | omics_toolbox.config:<module>:11 - PROJ_ROOT path is: /Users/joaofelipe/Yale/Omics Toolbox/4_Code/Omics Toolbox\n",
      "2025-04-17 18:38:39.644 | INFO     | omics_toolbox.config:<module>:11 - PROJ_ROOT path is: /Users/joaofelipe/Yale/Omics Toolbox/4_Code/Omics Toolbox\n",
      "2025-04-17 18:38:39.644 | INFO     | omics_toolbox.config:<module>:11 - PROJ_ROOT path is: /Users/joaofelipe/Yale/Omics Toolbox/4_Code/Omics Toolbox\n",
      "2025-04-17 18:38:39.673 | INFO     | omics_toolbox.config:<module>:11 - PROJ_ROOT path is: /Users/joaofelipe/Yale/Omics Toolbox/4_Code/Omics Toolbox\n"
     ]
    },
    {
     "name": "stdout",
     "output_type": "stream",
     "text": [
      "Epoch 23:   0%|          | 0/392 [00:00<?, ?it/s, v_num=2, decoder/val_loss=0.137]          "
     ]
    },
    {
     "name": "stderr",
     "output_type": "stream",
     "text": [
      "2025-04-17 18:38:42.888 | INFO     | omics_toolbox.config:<module>:11 - PROJ_ROOT path is: /Users/joaofelipe/Yale/Omics Toolbox/4_Code/Omics Toolbox\n",
      "2025-04-17 18:38:42.888 | INFO     | omics_toolbox.config:<module>:11 - PROJ_ROOT path is: /Users/joaofelipe/Yale/Omics Toolbox/4_Code/Omics Toolbox\n",
      "2025-04-17 18:38:42.892 | INFO     | omics_toolbox.config:<module>:11 - PROJ_ROOT path is: /Users/joaofelipe/Yale/Omics Toolbox/4_Code/Omics Toolbox\n",
      "2025-04-17 18:38:42.893 | INFO     | omics_toolbox.config:<module>:11 - PROJ_ROOT path is: /Users/joaofelipe/Yale/Omics Toolbox/4_Code/Omics Toolbox\n"
     ]
    },
    {
     "name": "stdout",
     "output_type": "stream",
     "text": [
      "Epoch 23: 100%|██████████| 392/392 [00:05<00:00, 67.13it/s, v_num=2, decoder/val_loss=0.137]"
     ]
    },
    {
     "name": "stderr",
     "output_type": "stream",
     "text": [
      "2025-04-17 18:38:48.707 | INFO     | omics_toolbox.config:<module>:11 - PROJ_ROOT path is: /Users/joaofelipe/Yale/Omics Toolbox/4_Code/Omics Toolbox\n",
      "2025-04-17 18:38:48.741 | INFO     | omics_toolbox.config:<module>:11 - PROJ_ROOT path is: /Users/joaofelipe/Yale/Omics Toolbox/4_Code/Omics Toolbox\n",
      "2025-04-17 18:38:48.741 | INFO     | omics_toolbox.config:<module>:11 - PROJ_ROOT path is: /Users/joaofelipe/Yale/Omics Toolbox/4_Code/Omics Toolbox\n",
      "2025-04-17 18:38:48.762 | INFO     | omics_toolbox.config:<module>:11 - PROJ_ROOT path is: /Users/joaofelipe/Yale/Omics Toolbox/4_Code/Omics Toolbox\n"
     ]
    },
    {
     "name": "stdout",
     "output_type": "stream",
     "text": [
      "Epoch 24:   0%|          | 0/392 [00:00<?, ?it/s, v_num=2, decoder/val_loss=0.135]          "
     ]
    },
    {
     "name": "stderr",
     "output_type": "stream",
     "text": [
      "2025-04-17 18:38:51.964 | INFO     | omics_toolbox.config:<module>:11 - PROJ_ROOT path is: /Users/joaofelipe/Yale/Omics Toolbox/4_Code/Omics Toolbox\n",
      "2025-04-17 18:38:51.976 | INFO     | omics_toolbox.config:<module>:11 - PROJ_ROOT path is: /Users/joaofelipe/Yale/Omics Toolbox/4_Code/Omics Toolbox\n",
      "2025-04-17 18:38:51.984 | INFO     | omics_toolbox.config:<module>:11 - PROJ_ROOT path is: /Users/joaofelipe/Yale/Omics Toolbox/4_Code/Omics Toolbox\n",
      "2025-04-17 18:38:51.989 | INFO     | omics_toolbox.config:<module>:11 - PROJ_ROOT path is: /Users/joaofelipe/Yale/Omics Toolbox/4_Code/Omics Toolbox\n"
     ]
    },
    {
     "name": "stdout",
     "output_type": "stream",
     "text": [
      "Epoch 24: 100%|██████████| 392/392 [00:06<00:00, 65.11it/s, v_num=2, decoder/val_loss=0.135]"
     ]
    },
    {
     "name": "stderr",
     "output_type": "stream",
     "text": [
      "2025-04-17 18:38:57.915 | INFO     | omics_toolbox.config:<module>:11 - PROJ_ROOT path is: /Users/joaofelipe/Yale/Omics Toolbox/4_Code/Omics Toolbox\n",
      "2025-04-17 18:38:57.937 | INFO     | omics_toolbox.config:<module>:11 - PROJ_ROOT path is: /Users/joaofelipe/Yale/Omics Toolbox/4_Code/Omics Toolbox\n",
      "2025-04-17 18:38:57.937 | INFO     | omics_toolbox.config:<module>:11 - PROJ_ROOT path is: /Users/joaofelipe/Yale/Omics Toolbox/4_Code/Omics Toolbox\n",
      "2025-04-17 18:38:57.971 | INFO     | omics_toolbox.config:<module>:11 - PROJ_ROOT path is: /Users/joaofelipe/Yale/Omics Toolbox/4_Code/Omics Toolbox\n"
     ]
    },
    {
     "name": "stdout",
     "output_type": "stream",
     "text": [
      "Epoch 24: 100%|██████████| 392/392 [00:09<00:00, 42.39it/s, v_num=2, decoder/val_loss=0.136]"
     ]
    },
    {
     "name": "stderr",
     "output_type": "stream",
     "text": [
      "`Trainer.fit` stopped: `max_epochs=25` reached.\n"
     ]
    },
    {
     "name": "stdout",
     "output_type": "stream",
     "text": [
      "Epoch 24: 100%|██████████| 392/392 [00:09<00:00, 42.38it/s, v_num=2, decoder/val_loss=0.136]\n"
     ]
    },
    {
     "name": "stderr",
     "output_type": "stream",
     "text": [
      "2025-04-17 18:39:02.212 | INFO     | omics_toolbox.config:<module>:11 - PROJ_ROOT path is: /Users/joaofelipe/Yale/Omics Toolbox/4_Code/Omics Toolbox\n",
      "2025-04-17 18:39:02.212 | INFO     | omics_toolbox.config:<module>:11 - PROJ_ROOT path is: /Users/joaofelipe/Yale/Omics Toolbox/4_Code/Omics Toolbox\n",
      "2025-04-17 18:39:02.213 | INFO     | omics_toolbox.config:<module>:11 - PROJ_ROOT path is: /Users/joaofelipe/Yale/Omics Toolbox/4_Code/Omics Toolbox\n",
      "2025-04-17 18:39:02.213 | INFO     | omics_toolbox.config:<module>:11 - PROJ_ROOT path is: /Users/joaofelipe/Yale/Omics Toolbox/4_Code/Omics Toolbox\n",
      "2025-04-17 18:39:06.143 | INFO     | omics_toolbox.config:<module>:11 - PROJ_ROOT path is: /Users/joaofelipe/Yale/Omics Toolbox/4_Code/Omics Toolbox\n",
      "2025-04-17 18:39:06.143 | INFO     | omics_toolbox.config:<module>:11 - PROJ_ROOT path is: /Users/joaofelipe/Yale/Omics Toolbox/4_Code/Omics Toolbox\n",
      "2025-04-17 18:39:06.143 | INFO     | omics_toolbox.config:<module>:11 - PROJ_ROOT path is: /Users/joaofelipe/Yale/Omics Toolbox/4_Code/Omics Toolbox\n",
      "2025-04-17 18:39:06.144 | INFO     | omics_toolbox.config:<module>:11 - PROJ_ROOT path is: /Users/joaofelipe/Yale/Omics Toolbox/4_Code/Omics Toolbox\n",
      "2025-04-17 18:39:09.547 | INFO     | omics_toolbox.config:<module>:11 - PROJ_ROOT path is: /Users/joaofelipe/Yale/Omics Toolbox/4_Code/Omics Toolbox\n",
      "2025-04-17 18:39:09.548 | INFO     | omics_toolbox.config:<module>:11 - PROJ_ROOT path is: /Users/joaofelipe/Yale/Omics Toolbox/4_Code/Omics Toolbox\n",
      "2025-04-17 18:39:09.552 | INFO     | omics_toolbox.config:<module>:11 - PROJ_ROOT path is: /Users/joaofelipe/Yale/Omics Toolbox/4_Code/Omics Toolbox\n",
      "2025-04-17 18:39:09.555 | INFO     | omics_toolbox.config:<module>:11 - PROJ_ROOT path is: /Users/joaofelipe/Yale/Omics Toolbox/4_Code/Omics Toolbox\n",
      "Seed set to 42\n",
      "GPU available: True (mps), used: True\n",
      "TPU available: False, using: 0 TPU cores\n",
      "HPU available: False, using: 0 HPUs\n",
      "/Users/joaofelipe/miniconda3/envs/omics_toolbox/lib/python3.10/site-packages/pytorch_lightning/callbacks/model_checkpoint.py:654: Checkpoint directory /Users/joaofelipe/Yale/Omics Toolbox/4_Code/Omics Toolbox/notebooks/MIOFlow/checkpoints exists and is not empty.\n",
      "/Users/joaofelipe/miniconda3/envs/omics_toolbox/lib/python3.10/site-packages/torch/optim/lr_scheduler.py:62: UserWarning: The verbose parameter is deprecated. Please use get_last_lr() to access the learning rate.\n",
      "  warnings.warn(\n",
      "\n",
      "  | Name    | Type       | Params | Mode \n",
      "-----------------------------------------------\n",
      "0 | net     | Sequential | 1.6 K  | train\n",
      "1 | loss_fn | MSELoss    | 0      | train\n",
      "-----------------------------------------------\n",
      "1.6 K     Trainable params\n",
      "0         Non-trainable params\n",
      "1.6 K     Total params\n",
      "0.006     Total estimated model params size (MB)\n",
      "11        Modules in train mode\n",
      "0         Modules in eval mode\n"
     ]
    },
    {
     "name": "stdout",
     "output_type": "stream",
     "text": [
      "Sanity Checking: |          | 0/? [00:00<?, ?it/s]"
     ]
    },
    {
     "name": "stderr",
     "output_type": "stream",
     "text": [
      "/Users/joaofelipe/miniconda3/envs/omics_toolbox/lib/python3.10/site-packages/pytorch_lightning/trainer/connectors/data_connector.py:420: Consider setting `persistent_workers=True` in 'val_dataloader' to speed up the dataloader worker initialization.\n",
      "2025-04-17 18:39:12.999 | INFO     | omics_toolbox.config:<module>:11 - PROJ_ROOT path is: /Users/joaofelipe/Yale/Omics Toolbox/4_Code/Omics Toolbox\n",
      "2025-04-17 18:39:13.001 | INFO     | omics_toolbox.config:<module>:11 - PROJ_ROOT path is: /Users/joaofelipe/Yale/Omics Toolbox/4_Code/Omics Toolbox\n",
      "2025-04-17 18:39:13.009 | INFO     | omics_toolbox.config:<module>:11 - PROJ_ROOT path is: /Users/joaofelipe/Yale/Omics Toolbox/4_Code/Omics Toolbox\n",
      "2025-04-17 18:39:13.013 | INFO     | omics_toolbox.config:<module>:11 - PROJ_ROOT path is: /Users/joaofelipe/Yale/Omics Toolbox/4_Code/Omics Toolbox\n"
     ]
    },
    {
     "name": "stdout",
     "output_type": "stream",
     "text": [
      "                                                                            \r"
     ]
    },
    {
     "name": "stderr",
     "output_type": "stream",
     "text": [
      "/Users/joaofelipe/miniconda3/envs/omics_toolbox/lib/python3.10/site-packages/pytorch_lightning/trainer/connectors/data_connector.py:420: Consider setting `persistent_workers=True` in 'train_dataloader' to speed up the dataloader worker initialization.\n"
     ]
    },
    {
     "name": "stdout",
     "output_type": "stream",
     "text": [
      "Epoch 0:   0%|          | 0/392 [00:00<?, ?it/s] "
     ]
    },
    {
     "name": "stderr",
     "output_type": "stream",
     "text": [
      "2025-04-17 18:39:15.774 | INFO     | omics_toolbox.config:<module>:11 - PROJ_ROOT path is: /Users/joaofelipe/Yale/Omics Toolbox/4_Code/Omics Toolbox\n",
      "2025-04-17 18:39:15.775 | INFO     | omics_toolbox.config:<module>:11 - PROJ_ROOT path is: /Users/joaofelipe/Yale/Omics Toolbox/4_Code/Omics Toolbox\n",
      "2025-04-17 18:39:15.776 | INFO     | omics_toolbox.config:<module>:11 - PROJ_ROOT path is: /Users/joaofelipe/Yale/Omics Toolbox/4_Code/Omics Toolbox\n",
      "2025-04-17 18:39:15.785 | INFO     | omics_toolbox.config:<module>:11 - PROJ_ROOT path is: /Users/joaofelipe/Yale/Omics Toolbox/4_Code/Omics Toolbox\n"
     ]
    },
    {
     "name": "stdout",
     "output_type": "stream",
     "text": [
      "Epoch 0: 100%|██████████| 392/392 [00:05<00:00, 67.77it/s, v_num=3]"
     ]
    },
    {
     "name": "stderr",
     "output_type": "stream",
     "text": [
      "2025-04-17 18:39:21.827 | INFO     | omics_toolbox.config:<module>:11 - PROJ_ROOT path is: /Users/joaofelipe/Yale/Omics Toolbox/4_Code/Omics Toolbox\n",
      "2025-04-17 18:39:21.827 | INFO     | omics_toolbox.config:<module>:11 - PROJ_ROOT path is: /Users/joaofelipe/Yale/Omics Toolbox/4_Code/Omics Toolbox\n",
      "2025-04-17 18:39:21.827 | INFO     | omics_toolbox.config:<module>:11 - PROJ_ROOT path is: /Users/joaofelipe/Yale/Omics Toolbox/4_Code/Omics Toolbox\n",
      "2025-04-17 18:39:21.838 | INFO     | omics_toolbox.config:<module>:11 - PROJ_ROOT path is: /Users/joaofelipe/Yale/Omics Toolbox/4_Code/Omics Toolbox\n"
     ]
    },
    {
     "name": "stdout",
     "output_type": "stream",
     "text": [
      "Epoch 0: 100%|██████████| 392/392 [00:08<00:00, 43.75it/s, v_num=3, dim_reducer/val_loss=0.0199]"
     ]
    },
    {
     "name": "stderr",
     "output_type": "stream",
     "text": [
      "Metric dim_reducer/val_loss improved. New best score: 0.020\n"
     ]
    },
    {
     "name": "stdout",
     "output_type": "stream",
     "text": [
      "Epoch 1:   0%|          | 0/392 [00:00<?, ?it/s, v_num=3, dim_reducer/val_loss=0.0199]          "
     ]
    },
    {
     "name": "stderr",
     "output_type": "stream",
     "text": [
      "2025-04-17 18:39:25.102 | INFO     | omics_toolbox.config:<module>:11 - PROJ_ROOT path is: /Users/joaofelipe/Yale/Omics Toolbox/4_Code/Omics Toolbox\n",
      "2025-04-17 18:39:25.105 | INFO     | omics_toolbox.config:<module>:11 - PROJ_ROOT path is: /Users/joaofelipe/Yale/Omics Toolbox/4_Code/Omics Toolbox\n",
      "2025-04-17 18:39:25.108 | INFO     | omics_toolbox.config:<module>:11 - PROJ_ROOT path is: /Users/joaofelipe/Yale/Omics Toolbox/4_Code/Omics Toolbox\n",
      "2025-04-17 18:39:25.112 | INFO     | omics_toolbox.config:<module>:11 - PROJ_ROOT path is: /Users/joaofelipe/Yale/Omics Toolbox/4_Code/Omics Toolbox\n"
     ]
    },
    {
     "name": "stdout",
     "output_type": "stream",
     "text": [
      "Epoch 1: 100%|██████████| 392/392 [00:05<00:00, 67.13it/s, v_num=3, dim_reducer/val_loss=0.0199]"
     ]
    },
    {
     "name": "stderr",
     "output_type": "stream",
     "text": [
      "2025-04-17 18:39:30.823 | INFO     | omics_toolbox.config:<module>:11 - PROJ_ROOT path is: /Users/joaofelipe/Yale/Omics Toolbox/4_Code/Omics Toolbox\n",
      "2025-04-17 18:39:30.830 | INFO     | omics_toolbox.config:<module>:11 - PROJ_ROOT path is: /Users/joaofelipe/Yale/Omics Toolbox/4_Code/Omics Toolbox\n",
      "2025-04-17 18:39:30.844 | INFO     | omics_toolbox.config:<module>:11 - PROJ_ROOT path is: /Users/joaofelipe/Yale/Omics Toolbox/4_Code/Omics Toolbox\n",
      "2025-04-17 18:39:30.844 | INFO     | omics_toolbox.config:<module>:11 - PROJ_ROOT path is: /Users/joaofelipe/Yale/Omics Toolbox/4_Code/Omics Toolbox\n"
     ]
    },
    {
     "name": "stdout",
     "output_type": "stream",
     "text": [
      "Epoch 1: 100%|██████████| 392/392 [00:08<00:00, 43.74it/s, v_num=3, dim_reducer/val_loss=0.0185]"
     ]
    },
    {
     "name": "stderr",
     "output_type": "stream",
     "text": [
      "Metric dim_reducer/val_loss improved by 0.001 >= min_delta = 0.0001. New best score: 0.019\n"
     ]
    },
    {
     "name": "stdout",
     "output_type": "stream",
     "text": [
      "Epoch 2:   0%|          | 0/392 [00:00<?, ?it/s, v_num=3, dim_reducer/val_loss=0.0185]          "
     ]
    },
    {
     "name": "stderr",
     "output_type": "stream",
     "text": [
      "2025-04-17 18:39:33.963 | INFO     | omics_toolbox.config:<module>:11 - PROJ_ROOT path is: /Users/joaofelipe/Yale/Omics Toolbox/4_Code/Omics Toolbox\n",
      "2025-04-17 18:39:33.969 | INFO     | omics_toolbox.config:<module>:11 - PROJ_ROOT path is: /Users/joaofelipe/Yale/Omics Toolbox/4_Code/Omics Toolbox\n",
      "2025-04-17 18:39:33.980 | INFO     | omics_toolbox.config:<module>:11 - PROJ_ROOT path is: /Users/joaofelipe/Yale/Omics Toolbox/4_Code/Omics Toolbox\n",
      "2025-04-17 18:39:33.988 | INFO     | omics_toolbox.config:<module>:11 - PROJ_ROOT path is: /Users/joaofelipe/Yale/Omics Toolbox/4_Code/Omics Toolbox\n"
     ]
    },
    {
     "name": "stdout",
     "output_type": "stream",
     "text": [
      "Epoch 2: 100%|██████████| 392/392 [00:05<00:00, 68.34it/s, v_num=3, dim_reducer/val_loss=0.0185]"
     ]
    },
    {
     "name": "stderr",
     "output_type": "stream",
     "text": [
      "2025-04-17 18:39:39.693 | INFO     | omics_toolbox.config:<module>:11 - PROJ_ROOT path is: /Users/joaofelipe/Yale/Omics Toolbox/4_Code/Omics Toolbox\n",
      "2025-04-17 18:39:39.693 | INFO     | omics_toolbox.config:<module>:11 - PROJ_ROOT path is: /Users/joaofelipe/Yale/Omics Toolbox/4_Code/Omics Toolbox\n",
      "2025-04-17 18:39:39.705 | INFO     | omics_toolbox.config:<module>:11 - PROJ_ROOT path is: /Users/joaofelipe/Yale/Omics Toolbox/4_Code/Omics Toolbox\n",
      "2025-04-17 18:39:39.711 | INFO     | omics_toolbox.config:<module>:11 - PROJ_ROOT path is: /Users/joaofelipe/Yale/Omics Toolbox/4_Code/Omics Toolbox\n"
     ]
    },
    {
     "name": "stdout",
     "output_type": "stream",
     "text": [
      "Epoch 2: 100%|██████████| 392/392 [00:08<00:00, 44.19it/s, v_num=3, dim_reducer/val_loss=0.0145]"
     ]
    },
    {
     "name": "stderr",
     "output_type": "stream",
     "text": [
      "Metric dim_reducer/val_loss improved by 0.004 >= min_delta = 0.0001. New best score: 0.014\n"
     ]
    },
    {
     "name": "stdout",
     "output_type": "stream",
     "text": [
      "Epoch 3:   0%|          | 0/392 [00:00<?, ?it/s, v_num=3, dim_reducer/val_loss=0.0145]          "
     ]
    },
    {
     "name": "stderr",
     "output_type": "stream",
     "text": [
      "2025-04-17 18:39:42.842 | INFO     | omics_toolbox.config:<module>:11 - PROJ_ROOT path is: /Users/joaofelipe/Yale/Omics Toolbox/4_Code/Omics Toolbox\n",
      "2025-04-17 18:39:42.853 | INFO     | omics_toolbox.config:<module>:11 - PROJ_ROOT path is: /Users/joaofelipe/Yale/Omics Toolbox/4_Code/Omics Toolbox\n",
      "2025-04-17 18:39:42.856 | INFO     | omics_toolbox.config:<module>:11 - PROJ_ROOT path is: /Users/joaofelipe/Yale/Omics Toolbox/4_Code/Omics Toolbox\n",
      "2025-04-17 18:39:42.877 | INFO     | omics_toolbox.config:<module>:11 - PROJ_ROOT path is: /Users/joaofelipe/Yale/Omics Toolbox/4_Code/Omics Toolbox\n"
     ]
    },
    {
     "name": "stdout",
     "output_type": "stream",
     "text": [
      "Epoch 3: 100%|██████████| 392/392 [00:05<00:00, 68.94it/s, v_num=3, dim_reducer/val_loss=0.0145]"
     ]
    },
    {
     "name": "stderr",
     "output_type": "stream",
     "text": [
      "2025-04-17 18:39:48.567 | INFO     | omics_toolbox.config:<module>:11 - PROJ_ROOT path is: /Users/joaofelipe/Yale/Omics Toolbox/4_Code/Omics Toolbox\n",
      "2025-04-17 18:39:48.567 | INFO     | omics_toolbox.config:<module>:11 - PROJ_ROOT path is: /Users/joaofelipe/Yale/Omics Toolbox/4_Code/Omics Toolbox\n",
      "2025-04-17 18:39:48.588 | INFO     | omics_toolbox.config:<module>:11 - PROJ_ROOT path is: /Users/joaofelipe/Yale/Omics Toolbox/4_Code/Omics Toolbox\n",
      "2025-04-17 18:39:48.598 | INFO     | omics_toolbox.config:<module>:11 - PROJ_ROOT path is: /Users/joaofelipe/Yale/Omics Toolbox/4_Code/Omics Toolbox\n"
     ]
    },
    {
     "name": "stdout",
     "output_type": "stream",
     "text": [
      "Epoch 3: 100%|██████████| 392/392 [00:08<00:00, 44.16it/s, v_num=3, dim_reducer/val_loss=0.0129]"
     ]
    },
    {
     "name": "stderr",
     "output_type": "stream",
     "text": [
      "Metric dim_reducer/val_loss improved by 0.002 >= min_delta = 0.0001. New best score: 0.013\n"
     ]
    },
    {
     "name": "stdout",
     "output_type": "stream",
     "text": [
      "Epoch 4:   0%|          | 0/392 [00:00<?, ?it/s, v_num=3, dim_reducer/val_loss=0.0129]          "
     ]
    },
    {
     "name": "stderr",
     "output_type": "stream",
     "text": [
      "2025-04-17 18:39:51.760 | INFO     | omics_toolbox.config:<module>:11 - PROJ_ROOT path is: /Users/joaofelipe/Yale/Omics Toolbox/4_Code/Omics Toolbox\n",
      "2025-04-17 18:39:51.760 | INFO     | omics_toolbox.config:<module>:11 - PROJ_ROOT path is: /Users/joaofelipe/Yale/Omics Toolbox/4_Code/Omics Toolbox\n",
      "2025-04-17 18:39:51.761 | INFO     | omics_toolbox.config:<module>:11 - PROJ_ROOT path is: /Users/joaofelipe/Yale/Omics Toolbox/4_Code/Omics Toolbox\n",
      "2025-04-17 18:39:51.803 | INFO     | omics_toolbox.config:<module>:11 - PROJ_ROOT path is: /Users/joaofelipe/Yale/Omics Toolbox/4_Code/Omics Toolbox\n"
     ]
    },
    {
     "name": "stdout",
     "output_type": "stream",
     "text": [
      "Epoch 4: 100%|██████████| 392/392 [00:05<00:00, 68.34it/s, v_num=3, dim_reducer/val_loss=0.0129]"
     ]
    },
    {
     "name": "stderr",
     "output_type": "stream",
     "text": [
      "2025-04-17 18:39:57.483 | INFO     | omics_toolbox.config:<module>:11 - PROJ_ROOT path is: /Users/joaofelipe/Yale/Omics Toolbox/4_Code/Omics Toolbox\n",
      "2025-04-17 18:39:57.488 | INFO     | omics_toolbox.config:<module>:11 - PROJ_ROOT path is: /Users/joaofelipe/Yale/Omics Toolbox/4_Code/Omics Toolbox\n",
      "2025-04-17 18:39:57.503 | INFO     | omics_toolbox.config:<module>:11 - PROJ_ROOT path is: /Users/joaofelipe/Yale/Omics Toolbox/4_Code/Omics Toolbox\n",
      "2025-04-17 18:39:57.520 | INFO     | omics_toolbox.config:<module>:11 - PROJ_ROOT path is: /Users/joaofelipe/Yale/Omics Toolbox/4_Code/Omics Toolbox\n"
     ]
    },
    {
     "name": "stdout",
     "output_type": "stream",
     "text": [
      "Epoch 5:   0%|          | 0/392 [00:00<?, ?it/s, v_num=3, dim_reducer/val_loss=0.0152]          "
     ]
    },
    {
     "name": "stderr",
     "output_type": "stream",
     "text": [
      "2025-04-17 18:40:00.731 | INFO     | omics_toolbox.config:<module>:11 - PROJ_ROOT path is: /Users/joaofelipe/Yale/Omics Toolbox/4_Code/Omics Toolbox\n",
      "2025-04-17 18:40:00.762 | INFO     | omics_toolbox.config:<module>:11 - PROJ_ROOT path is: /Users/joaofelipe/Yale/Omics Toolbox/4_Code/Omics Toolbox\n",
      "2025-04-17 18:40:00.763 | INFO     | omics_toolbox.config:<module>:11 - PROJ_ROOT path is: /Users/joaofelipe/Yale/Omics Toolbox/4_Code/Omics Toolbox\n",
      "2025-04-17 18:40:00.768 | INFO     | omics_toolbox.config:<module>:11 - PROJ_ROOT path is: /Users/joaofelipe/Yale/Omics Toolbox/4_Code/Omics Toolbox\n"
     ]
    },
    {
     "name": "stdout",
     "output_type": "stream",
     "text": [
      "Epoch 5: 100%|██████████| 392/392 [00:05<00:00, 67.22it/s, v_num=3, dim_reducer/val_loss=0.0152]"
     ]
    },
    {
     "name": "stderr",
     "output_type": "stream",
     "text": [
      "2025-04-17 18:40:06.464 | INFO     | omics_toolbox.config:<module>:11 - PROJ_ROOT path is: /Users/joaofelipe/Yale/Omics Toolbox/4_Code/Omics Toolbox\n",
      "2025-04-17 18:40:06.464 | INFO     | omics_toolbox.config:<module>:11 - PROJ_ROOT path is: /Users/joaofelipe/Yale/Omics Toolbox/4_Code/Omics Toolbox\n",
      "2025-04-17 18:40:06.486 | INFO     | omics_toolbox.config:<module>:11 - PROJ_ROOT path is: /Users/joaofelipe/Yale/Omics Toolbox/4_Code/Omics Toolbox\n",
      "2025-04-17 18:40:06.494 | INFO     | omics_toolbox.config:<module>:11 - PROJ_ROOT path is: /Users/joaofelipe/Yale/Omics Toolbox/4_Code/Omics Toolbox\n"
     ]
    },
    {
     "name": "stdout",
     "output_type": "stream",
     "text": [
      "Epoch 6:   0%|          | 0/392 [00:00<?, ?it/s, v_num=3, dim_reducer/val_loss=0.0139]          "
     ]
    },
    {
     "name": "stderr",
     "output_type": "stream",
     "text": [
      "2025-04-17 18:40:09.588 | INFO     | omics_toolbox.config:<module>:11 - PROJ_ROOT path is: /Users/joaofelipe/Yale/Omics Toolbox/4_Code/Omics Toolbox\n",
      "2025-04-17 18:40:09.605 | INFO     | omics_toolbox.config:<module>:11 - PROJ_ROOT path is: /Users/joaofelipe/Yale/Omics Toolbox/4_Code/Omics Toolbox\n",
      "2025-04-17 18:40:09.618 | INFO     | omics_toolbox.config:<module>:11 - PROJ_ROOT path is: /Users/joaofelipe/Yale/Omics Toolbox/4_Code/Omics Toolbox\n",
      "2025-04-17 18:40:09.618 | INFO     | omics_toolbox.config:<module>:11 - PROJ_ROOT path is: /Users/joaofelipe/Yale/Omics Toolbox/4_Code/Omics Toolbox\n"
     ]
    },
    {
     "name": "stdout",
     "output_type": "stream",
     "text": [
      "Epoch 6: 100%|██████████| 392/392 [00:05<00:00, 67.82it/s, v_num=3, dim_reducer/val_loss=0.0139]"
     ]
    },
    {
     "name": "stderr",
     "output_type": "stream",
     "text": [
      "2025-04-17 18:40:15.418 | INFO     | omics_toolbox.config:<module>:11 - PROJ_ROOT path is: /Users/joaofelipe/Yale/Omics Toolbox/4_Code/Omics Toolbox\n",
      "2025-04-17 18:40:15.422 | INFO     | omics_toolbox.config:<module>:11 - PROJ_ROOT path is: /Users/joaofelipe/Yale/Omics Toolbox/4_Code/Omics Toolbox\n",
      "2025-04-17 18:40:15.427 | INFO     | omics_toolbox.config:<module>:11 - PROJ_ROOT path is: /Users/joaofelipe/Yale/Omics Toolbox/4_Code/Omics Toolbox\n",
      "2025-04-17 18:40:15.446 | INFO     | omics_toolbox.config:<module>:11 - PROJ_ROOT path is: /Users/joaofelipe/Yale/Omics Toolbox/4_Code/Omics Toolbox\n"
     ]
    },
    {
     "name": "stdout",
     "output_type": "stream",
     "text": [
      "Epoch 6: 100%|██████████| 392/392 [00:08<00:00, 43.69it/s, v_num=3, dim_reducer/val_loss=0.0127]"
     ]
    },
    {
     "name": "stderr",
     "output_type": "stream",
     "text": [
      "Metric dim_reducer/val_loss improved by 0.000 >= min_delta = 0.0001. New best score: 0.013\n"
     ]
    },
    {
     "name": "stdout",
     "output_type": "stream",
     "text": [
      "Epoch 7:   0%|          | 0/392 [00:00<?, ?it/s, v_num=3, dim_reducer/val_loss=0.0127]          "
     ]
    },
    {
     "name": "stderr",
     "output_type": "stream",
     "text": [
      "2025-04-17 18:40:18.597 | INFO     | omics_toolbox.config:<module>:11 - PROJ_ROOT path is: /Users/joaofelipe/Yale/Omics Toolbox/4_Code/Omics Toolbox\n",
      "2025-04-17 18:40:18.616 | INFO     | omics_toolbox.config:<module>:11 - PROJ_ROOT path is: /Users/joaofelipe/Yale/Omics Toolbox/4_Code/Omics Toolbox\n",
      "2025-04-17 18:40:18.616 | INFO     | omics_toolbox.config:<module>:11 - PROJ_ROOT path is: /Users/joaofelipe/Yale/Omics Toolbox/4_Code/Omics Toolbox\n",
      "2025-04-17 18:40:18.639 | INFO     | omics_toolbox.config:<module>:11 - PROJ_ROOT path is: /Users/joaofelipe/Yale/Omics Toolbox/4_Code/Omics Toolbox\n"
     ]
    },
    {
     "name": "stdout",
     "output_type": "stream",
     "text": [
      "Epoch 7: 100%|██████████| 392/392 [00:05<00:00, 67.88it/s, v_num=3, dim_reducer/val_loss=0.0127]"
     ]
    },
    {
     "name": "stderr",
     "output_type": "stream",
     "text": [
      "2025-04-17 18:40:24.372 | INFO     | omics_toolbox.config:<module>:11 - PROJ_ROOT path is: /Users/joaofelipe/Yale/Omics Toolbox/4_Code/Omics Toolbox\n",
      "2025-04-17 18:40:24.390 | INFO     | omics_toolbox.config:<module>:11 - PROJ_ROOT path is: /Users/joaofelipe/Yale/Omics Toolbox/4_Code/Omics Toolbox\n",
      "2025-04-17 18:40:24.390 | INFO     | omics_toolbox.config:<module>:11 - PROJ_ROOT path is: /Users/joaofelipe/Yale/Omics Toolbox/4_Code/Omics Toolbox\n",
      "2025-04-17 18:40:24.391 | INFO     | omics_toolbox.config:<module>:11 - PROJ_ROOT path is: /Users/joaofelipe/Yale/Omics Toolbox/4_Code/Omics Toolbox\n"
     ]
    },
    {
     "name": "stdout",
     "output_type": "stream",
     "text": [
      "Epoch 7: 100%|██████████| 392/392 [00:08<00:00, 43.95it/s, v_num=3, dim_reducer/val_loss=0.0115]"
     ]
    },
    {
     "name": "stderr",
     "output_type": "stream",
     "text": [
      "Metric dim_reducer/val_loss improved by 0.001 >= min_delta = 0.0001. New best score: 0.012\n"
     ]
    },
    {
     "name": "stdout",
     "output_type": "stream",
     "text": [
      "Epoch 8:   0%|          | 0/392 [00:00<?, ?it/s, v_num=3, dim_reducer/val_loss=0.0115]          "
     ]
    },
    {
     "name": "stderr",
     "output_type": "stream",
     "text": [
      "2025-04-17 18:40:27.499 | INFO     | omics_toolbox.config:<module>:11 - PROJ_ROOT path is: /Users/joaofelipe/Yale/Omics Toolbox/4_Code/Omics Toolbox\n",
      "2025-04-17 18:40:27.499 | INFO     | omics_toolbox.config:<module>:11 - PROJ_ROOT path is: /Users/joaofelipe/Yale/Omics Toolbox/4_Code/Omics Toolbox\n",
      "2025-04-17 18:40:27.500 | INFO     | omics_toolbox.config:<module>:11 - PROJ_ROOT path is: /Users/joaofelipe/Yale/Omics Toolbox/4_Code/Omics Toolbox\n",
      "2025-04-17 18:40:27.509 | INFO     | omics_toolbox.config:<module>:11 - PROJ_ROOT path is: /Users/joaofelipe/Yale/Omics Toolbox/4_Code/Omics Toolbox\n"
     ]
    },
    {
     "name": "stdout",
     "output_type": "stream",
     "text": [
      "Epoch 8: 100%|██████████| 392/392 [00:05<00:00, 68.89it/s, v_num=3, dim_reducer/val_loss=0.0115]"
     ]
    },
    {
     "name": "stderr",
     "output_type": "stream",
     "text": [
      "2025-04-17 18:40:33.199 | INFO     | omics_toolbox.config:<module>:11 - PROJ_ROOT path is: /Users/joaofelipe/Yale/Omics Toolbox/4_Code/Omics Toolbox\n",
      "2025-04-17 18:40:33.212 | INFO     | omics_toolbox.config:<module>:11 - PROJ_ROOT path is: /Users/joaofelipe/Yale/Omics Toolbox/4_Code/Omics Toolbox\n",
      "2025-04-17 18:40:33.229 | INFO     | omics_toolbox.config:<module>:11 - PROJ_ROOT path is: /Users/joaofelipe/Yale/Omics Toolbox/4_Code/Omics Toolbox\n",
      "2025-04-17 18:40:33.238 | INFO     | omics_toolbox.config:<module>:11 - PROJ_ROOT path is: /Users/joaofelipe/Yale/Omics Toolbox/4_Code/Omics Toolbox\n"
     ]
    },
    {
     "name": "stdout",
     "output_type": "stream",
     "text": [
      "Epoch 9:   0%|          | 0/392 [00:00<?, ?it/s, v_num=3, dim_reducer/val_loss=0.0151]          "
     ]
    },
    {
     "name": "stderr",
     "output_type": "stream",
     "text": [
      "2025-04-17 18:40:36.320 | INFO     | omics_toolbox.config:<module>:11 - PROJ_ROOT path is: /Users/joaofelipe/Yale/Omics Toolbox/4_Code/Omics Toolbox\n",
      "2025-04-17 18:40:36.335 | INFO     | omics_toolbox.config:<module>:11 - PROJ_ROOT path is: /Users/joaofelipe/Yale/Omics Toolbox/4_Code/Omics Toolbox\n",
      "2025-04-17 18:40:36.352 | INFO     | omics_toolbox.config:<module>:11 - PROJ_ROOT path is: /Users/joaofelipe/Yale/Omics Toolbox/4_Code/Omics Toolbox\n",
      "2025-04-17 18:40:36.359 | INFO     | omics_toolbox.config:<module>:11 - PROJ_ROOT path is: /Users/joaofelipe/Yale/Omics Toolbox/4_Code/Omics Toolbox\n"
     ]
    },
    {
     "name": "stdout",
     "output_type": "stream",
     "text": [
      "Epoch 9: 100%|██████████| 392/392 [00:05<00:00, 67.21it/s, v_num=3, dim_reducer/val_loss=0.0151]"
     ]
    },
    {
     "name": "stderr",
     "output_type": "stream",
     "text": [
      "2025-04-17 18:40:42.331 | INFO     | omics_toolbox.config:<module>:11 - PROJ_ROOT path is: /Users/joaofelipe/Yale/Omics Toolbox/4_Code/Omics Toolbox\n",
      "2025-04-17 18:40:42.331 | INFO     | omics_toolbox.config:<module>:11 - PROJ_ROOT path is: /Users/joaofelipe/Yale/Omics Toolbox/4_Code/Omics Toolbox\n",
      "2025-04-17 18:40:42.331 | INFO     | omics_toolbox.config:<module>:11 - PROJ_ROOT path is: /Users/joaofelipe/Yale/Omics Toolbox/4_Code/Omics Toolbox\n",
      "2025-04-17 18:40:42.331 | INFO     | omics_toolbox.config:<module>:11 - PROJ_ROOT path is: /Users/joaofelipe/Yale/Omics Toolbox/4_Code/Omics Toolbox\n"
     ]
    },
    {
     "name": "stdout",
     "output_type": "stream",
     "text": [
      "Epoch 10:   0%|          | 0/392 [00:00<?, ?it/s, v_num=3, dim_reducer/val_loss=0.0128]         "
     ]
    },
    {
     "name": "stderr",
     "output_type": "stream",
     "text": [
      "2025-04-17 18:40:45.616 | INFO     | omics_toolbox.config:<module>:11 - PROJ_ROOT path is: /Users/joaofelipe/Yale/Omics Toolbox/4_Code/Omics Toolbox\n",
      "2025-04-17 18:40:45.622 | INFO     | omics_toolbox.config:<module>:11 - PROJ_ROOT path is: /Users/joaofelipe/Yale/Omics Toolbox/4_Code/Omics Toolbox\n",
      "2025-04-17 18:40:45.622 | INFO     | omics_toolbox.config:<module>:11 - PROJ_ROOT path is: /Users/joaofelipe/Yale/Omics Toolbox/4_Code/Omics Toolbox\n",
      "2025-04-17 18:40:45.653 | INFO     | omics_toolbox.config:<module>:11 - PROJ_ROOT path is: /Users/joaofelipe/Yale/Omics Toolbox/4_Code/Omics Toolbox\n"
     ]
    },
    {
     "name": "stdout",
     "output_type": "stream",
     "text": [
      "Epoch 10: 100%|██████████| 392/392 [00:06<00:00, 64.09it/s, v_num=3, dim_reducer/val_loss=0.0128]"
     ]
    },
    {
     "name": "stderr",
     "output_type": "stream",
     "text": [
      "2025-04-17 18:40:51.913 | INFO     | omics_toolbox.config:<module>:11 - PROJ_ROOT path is: /Users/joaofelipe/Yale/Omics Toolbox/4_Code/Omics Toolbox\n",
      "2025-04-17 18:40:51.913 | INFO     | omics_toolbox.config:<module>:11 - PROJ_ROOT path is: /Users/joaofelipe/Yale/Omics Toolbox/4_Code/Omics Toolbox\n",
      "2025-04-17 18:40:51.915 | INFO     | omics_toolbox.config:<module>:11 - PROJ_ROOT path is: /Users/joaofelipe/Yale/Omics Toolbox/4_Code/Omics Toolbox\n",
      "2025-04-17 18:40:51.915 | INFO     | omics_toolbox.config:<module>:11 - PROJ_ROOT path is: /Users/joaofelipe/Yale/Omics Toolbox/4_Code/Omics Toolbox\n"
     ]
    },
    {
     "name": "stdout",
     "output_type": "stream",
     "text": [
      "Epoch 11:   0%|          | 0/392 [00:00<?, ?it/s, v_num=3, dim_reducer/val_loss=0.0115]          "
     ]
    },
    {
     "name": "stderr",
     "output_type": "stream",
     "text": [
      "2025-04-17 18:40:55.377 | INFO     | omics_toolbox.config:<module>:11 - PROJ_ROOT path is: /Users/joaofelipe/Yale/Omics Toolbox/4_Code/Omics Toolbox\n",
      "2025-04-17 18:40:55.379 | INFO     | omics_toolbox.config:<module>:11 - PROJ_ROOT path is: /Users/joaofelipe/Yale/Omics Toolbox/4_Code/Omics Toolbox\n",
      "2025-04-17 18:40:55.394 | INFO     | omics_toolbox.config:<module>:11 - PROJ_ROOT path is: /Users/joaofelipe/Yale/Omics Toolbox/4_Code/Omics Toolbox\n",
      "2025-04-17 18:40:55.394 | INFO     | omics_toolbox.config:<module>:11 - PROJ_ROOT path is: /Users/joaofelipe/Yale/Omics Toolbox/4_Code/Omics Toolbox\n"
     ]
    },
    {
     "name": "stdout",
     "output_type": "stream",
     "text": [
      "Epoch 11: 100%|██████████| 392/392 [00:06<00:00, 63.68it/s, v_num=3, dim_reducer/val_loss=0.0115]"
     ]
    },
    {
     "name": "stderr",
     "output_type": "stream",
     "text": [
      "2025-04-17 18:41:01.526 | INFO     | omics_toolbox.config:<module>:11 - PROJ_ROOT path is: /Users/joaofelipe/Yale/Omics Toolbox/4_Code/Omics Toolbox\n",
      "2025-04-17 18:41:01.526 | INFO     | omics_toolbox.config:<module>:11 - PROJ_ROOT path is: /Users/joaofelipe/Yale/Omics Toolbox/4_Code/Omics Toolbox\n",
      "2025-04-17 18:41:01.535 | INFO     | omics_toolbox.config:<module>:11 - PROJ_ROOT path is: /Users/joaofelipe/Yale/Omics Toolbox/4_Code/Omics Toolbox\n",
      "2025-04-17 18:41:01.542 | INFO     | omics_toolbox.config:<module>:11 - PROJ_ROOT path is: /Users/joaofelipe/Yale/Omics Toolbox/4_Code/Omics Toolbox\n"
     ]
    },
    {
     "name": "stdout",
     "output_type": "stream",
     "text": [
      "Epoch 12:   0%|          | 0/392 [00:00<?, ?it/s, v_num=3, dim_reducer/val_loss=0.0162]          "
     ]
    },
    {
     "name": "stderr",
     "output_type": "stream",
     "text": [
      "2025-04-17 18:41:05.179 | INFO     | omics_toolbox.config:<module>:11 - PROJ_ROOT path is: /Users/joaofelipe/Yale/Omics Toolbox/4_Code/Omics Toolbox\n",
      "2025-04-17 18:41:05.193 | INFO     | omics_toolbox.config:<module>:11 - PROJ_ROOT path is: /Users/joaofelipe/Yale/Omics Toolbox/4_Code/Omics Toolbox\n",
      "2025-04-17 18:41:05.211 | INFO     | omics_toolbox.config:<module>:11 - PROJ_ROOT path is: /Users/joaofelipe/Yale/Omics Toolbox/4_Code/Omics Toolbox\n",
      "2025-04-17 18:41:05.224 | INFO     | omics_toolbox.config:<module>:11 - PROJ_ROOT path is: /Users/joaofelipe/Yale/Omics Toolbox/4_Code/Omics Toolbox\n"
     ]
    },
    {
     "name": "stdout",
     "output_type": "stream",
     "text": [
      "Epoch 12: 100%|██████████| 392/392 [00:06<00:00, 61.13it/s, v_num=3, dim_reducer/val_loss=0.0162]"
     ]
    },
    {
     "name": "stderr",
     "output_type": "stream",
     "text": [
      "2025-04-17 18:41:11.468 | INFO     | omics_toolbox.config:<module>:11 - PROJ_ROOT path is: /Users/joaofelipe/Yale/Omics Toolbox/4_Code/Omics Toolbox\n",
      "2025-04-17 18:41:11.468 | INFO     | omics_toolbox.config:<module>:11 - PROJ_ROOT path is: /Users/joaofelipe/Yale/Omics Toolbox/4_Code/Omics Toolbox\n",
      "2025-04-17 18:41:11.468 | INFO     | omics_toolbox.config:<module>:11 - PROJ_ROOT path is: /Users/joaofelipe/Yale/Omics Toolbox/4_Code/Omics Toolbox\n",
      "2025-04-17 18:41:11.480 | INFO     | omics_toolbox.config:<module>:11 - PROJ_ROOT path is: /Users/joaofelipe/Yale/Omics Toolbox/4_Code/Omics Toolbox\n"
     ]
    },
    {
     "name": "stdout",
     "output_type": "stream",
     "text": [
      "Epoch 12: 100%|██████████| 392/392 [00:09<00:00, 39.90it/s, v_num=3, dim_reducer/val_loss=0.0113]"
     ]
    },
    {
     "name": "stderr",
     "output_type": "stream",
     "text": [
      "Metric dim_reducer/val_loss improved by 0.000 >= min_delta = 0.0001. New best score: 0.011\n"
     ]
    },
    {
     "name": "stdout",
     "output_type": "stream",
     "text": [
      "Epoch 13:   0%|          | 0/392 [00:00<?, ?it/s, v_num=3, dim_reducer/val_loss=0.0113]          "
     ]
    },
    {
     "name": "stderr",
     "output_type": "stream",
     "text": [
      "2025-04-17 18:41:15.105 | INFO     | omics_toolbox.config:<module>:11 - PROJ_ROOT path is: /Users/joaofelipe/Yale/Omics Toolbox/4_Code/Omics Toolbox\n",
      "2025-04-17 18:41:15.111 | INFO     | omics_toolbox.config:<module>:11 - PROJ_ROOT path is: /Users/joaofelipe/Yale/Omics Toolbox/4_Code/Omics Toolbox\n",
      "2025-04-17 18:41:15.125 | INFO     | omics_toolbox.config:<module>:11 - PROJ_ROOT path is: /Users/joaofelipe/Yale/Omics Toolbox/4_Code/Omics Toolbox\n",
      "2025-04-17 18:41:15.136 | INFO     | omics_toolbox.config:<module>:11 - PROJ_ROOT path is: /Users/joaofelipe/Yale/Omics Toolbox/4_Code/Omics Toolbox\n"
     ]
    },
    {
     "name": "stdout",
     "output_type": "stream",
     "text": [
      "Epoch 13: 100%|██████████| 392/392 [00:06<00:00, 63.67it/s, v_num=3, dim_reducer/val_loss=0.0113]"
     ]
    },
    {
     "name": "stderr",
     "output_type": "stream",
     "text": [
      "2025-04-17 18:41:21.006 | INFO     | omics_toolbox.config:<module>:11 - PROJ_ROOT path is: /Users/joaofelipe/Yale/Omics Toolbox/4_Code/Omics Toolbox\n",
      "2025-04-17 18:41:21.006 | INFO     | omics_toolbox.config:<module>:11 - PROJ_ROOT path is: /Users/joaofelipe/Yale/Omics Toolbox/4_Code/Omics Toolbox\n",
      "2025-04-17 18:41:21.030 | INFO     | omics_toolbox.config:<module>:11 - PROJ_ROOT path is: /Users/joaofelipe/Yale/Omics Toolbox/4_Code/Omics Toolbox\n",
      "2025-04-17 18:41:21.030 | INFO     | omics_toolbox.config:<module>:11 - PROJ_ROOT path is: /Users/joaofelipe/Yale/Omics Toolbox/4_Code/Omics Toolbox\n"
     ]
    },
    {
     "name": "stdout",
     "output_type": "stream",
     "text": [
      "Epoch 14:   0%|          | 0/392 [00:00<?, ?it/s, v_num=3, dim_reducer/val_loss=0.0124]          "
     ]
    },
    {
     "name": "stderr",
     "output_type": "stream",
     "text": [
      "2025-04-17 18:41:24.317 | INFO     | omics_toolbox.config:<module>:11 - PROJ_ROOT path is: /Users/joaofelipe/Yale/Omics Toolbox/4_Code/Omics Toolbox\n",
      "2025-04-17 18:41:24.317 | INFO     | omics_toolbox.config:<module>:11 - PROJ_ROOT path is: /Users/joaofelipe/Yale/Omics Toolbox/4_Code/Omics Toolbox\n",
      "2025-04-17 18:41:24.330 | INFO     | omics_toolbox.config:<module>:11 - PROJ_ROOT path is: /Users/joaofelipe/Yale/Omics Toolbox/4_Code/Omics Toolbox\n",
      "2025-04-17 18:41:24.331 | INFO     | omics_toolbox.config:<module>:11 - PROJ_ROOT path is: /Users/joaofelipe/Yale/Omics Toolbox/4_Code/Omics Toolbox\n"
     ]
    },
    {
     "name": "stdout",
     "output_type": "stream",
     "text": [
      "Epoch 14: 100%|██████████| 392/392 [00:05<00:00, 66.41it/s, v_num=3, dim_reducer/val_loss=0.0124]"
     ]
    },
    {
     "name": "stderr",
     "output_type": "stream",
     "text": [
      "2025-04-17 18:41:30.478 | INFO     | omics_toolbox.config:<module>:11 - PROJ_ROOT path is: /Users/joaofelipe/Yale/Omics Toolbox/4_Code/Omics Toolbox\n",
      "2025-04-17 18:41:30.478 | INFO     | omics_toolbox.config:<module>:11 - PROJ_ROOT path is: /Users/joaofelipe/Yale/Omics Toolbox/4_Code/Omics Toolbox\n",
      "2025-04-17 18:41:30.478 | INFO     | omics_toolbox.config:<module>:11 - PROJ_ROOT path is: /Users/joaofelipe/Yale/Omics Toolbox/4_Code/Omics Toolbox\n",
      "2025-04-17 18:41:30.478 | INFO     | omics_toolbox.config:<module>:11 - PROJ_ROOT path is: /Users/joaofelipe/Yale/Omics Toolbox/4_Code/Omics Toolbox\n"
     ]
    },
    {
     "name": "stdout",
     "output_type": "stream",
     "text": [
      "Epoch 15:   0%|          | 0/392 [00:00<?, ?it/s, v_num=3, dim_reducer/val_loss=0.0137]          "
     ]
    },
    {
     "name": "stderr",
     "output_type": "stream",
     "text": [
      "2025-04-17 18:41:34.226 | INFO     | omics_toolbox.config:<module>:11 - PROJ_ROOT path is: /Users/joaofelipe/Yale/Omics Toolbox/4_Code/Omics Toolbox\n",
      "2025-04-17 18:41:34.229 | INFO     | omics_toolbox.config:<module>:11 - PROJ_ROOT path is: /Users/joaofelipe/Yale/Omics Toolbox/4_Code/Omics Toolbox\n",
      "2025-04-17 18:41:34.233 | INFO     | omics_toolbox.config:<module>:11 - PROJ_ROOT path is: /Users/joaofelipe/Yale/Omics Toolbox/4_Code/Omics Toolbox\n",
      "2025-04-17 18:41:34.234 | INFO     | omics_toolbox.config:<module>:11 - PROJ_ROOT path is: /Users/joaofelipe/Yale/Omics Toolbox/4_Code/Omics Toolbox\n"
     ]
    },
    {
     "name": "stdout",
     "output_type": "stream",
     "text": [
      "Epoch 15: 100%|██████████| 392/392 [00:06<00:00, 61.11it/s, v_num=3, dim_reducer/val_loss=0.0137]"
     ]
    },
    {
     "name": "stderr",
     "output_type": "stream",
     "text": [
      "2025-04-17 18:41:40.483 | INFO     | omics_toolbox.config:<module>:11 - PROJ_ROOT path is: /Users/joaofelipe/Yale/Omics Toolbox/4_Code/Omics Toolbox\n",
      "2025-04-17 18:41:40.483 | INFO     | omics_toolbox.config:<module>:11 - PROJ_ROOT path is: /Users/joaofelipe/Yale/Omics Toolbox/4_Code/Omics Toolbox\n",
      "2025-04-17 18:41:40.492 | INFO     | omics_toolbox.config:<module>:11 - PROJ_ROOT path is: /Users/joaofelipe/Yale/Omics Toolbox/4_Code/Omics Toolbox\n",
      "2025-04-17 18:41:40.505 | INFO     | omics_toolbox.config:<module>:11 - PROJ_ROOT path is: /Users/joaofelipe/Yale/Omics Toolbox/4_Code/Omics Toolbox\n"
     ]
    },
    {
     "name": "stdout",
     "output_type": "stream",
     "text": [
      "Epoch 16:   0%|          | 0/392 [00:00<?, ?it/s, v_num=3, dim_reducer/val_loss=0.0116]          "
     ]
    },
    {
     "name": "stderr",
     "output_type": "stream",
     "text": [
      "2025-04-17 18:41:44.131 | INFO     | omics_toolbox.config:<module>:11 - PROJ_ROOT path is: /Users/joaofelipe/Yale/Omics Toolbox/4_Code/Omics Toolbox\n",
      "2025-04-17 18:41:44.153 | INFO     | omics_toolbox.config:<module>:11 - PROJ_ROOT path is: /Users/joaofelipe/Yale/Omics Toolbox/4_Code/Omics Toolbox\n",
      "2025-04-17 18:41:44.163 | INFO     | omics_toolbox.config:<module>:11 - PROJ_ROOT path is: /Users/joaofelipe/Yale/Omics Toolbox/4_Code/Omics Toolbox\n",
      "2025-04-17 18:41:44.171 | INFO     | omics_toolbox.config:<module>:11 - PROJ_ROOT path is: /Users/joaofelipe/Yale/Omics Toolbox/4_Code/Omics Toolbox\n"
     ]
    },
    {
     "name": "stdout",
     "output_type": "stream",
     "text": [
      "Epoch 16: 100%|██████████| 392/392 [00:06<00:00, 63.81it/s, v_num=3, dim_reducer/val_loss=0.0116]"
     ]
    },
    {
     "name": "stderr",
     "output_type": "stream",
     "text": [
      "2025-04-17 18:41:50.246 | INFO     | omics_toolbox.config:<module>:11 - PROJ_ROOT path is: /Users/joaofelipe/Yale/Omics Toolbox/4_Code/Omics Toolbox\n",
      "2025-04-17 18:41:50.246 | INFO     | omics_toolbox.config:<module>:11 - PROJ_ROOT path is: /Users/joaofelipe/Yale/Omics Toolbox/4_Code/Omics Toolbox\n",
      "2025-04-17 18:41:50.246 | INFO     | omics_toolbox.config:<module>:11 - PROJ_ROOT path is: /Users/joaofelipe/Yale/Omics Toolbox/4_Code/Omics Toolbox\n",
      "2025-04-17 18:41:50.246 | INFO     | omics_toolbox.config:<module>:11 - PROJ_ROOT path is: /Users/joaofelipe/Yale/Omics Toolbox/4_Code/Omics Toolbox\n"
     ]
    },
    {
     "name": "stdout",
     "output_type": "stream",
     "text": [
      "Epoch 17:   0%|          | 0/392 [00:00<?, ?it/s, v_num=3, dim_reducer/val_loss=0.0148]          "
     ]
    },
    {
     "name": "stderr",
     "output_type": "stream",
     "text": [
      "2025-04-17 18:41:53.495 | INFO     | omics_toolbox.config:<module>:11 - PROJ_ROOT path is: /Users/joaofelipe/Yale/Omics Toolbox/4_Code/Omics Toolbox\n",
      "2025-04-17 18:41:53.502 | INFO     | omics_toolbox.config:<module>:11 - PROJ_ROOT path is: /Users/joaofelipe/Yale/Omics Toolbox/4_Code/Omics Toolbox\n",
      "2025-04-17 18:41:53.513 | INFO     | omics_toolbox.config:<module>:11 - PROJ_ROOT path is: /Users/joaofelipe/Yale/Omics Toolbox/4_Code/Omics Toolbox\n",
      "2025-04-17 18:41:53.513 | INFO     | omics_toolbox.config:<module>:11 - PROJ_ROOT path is: /Users/joaofelipe/Yale/Omics Toolbox/4_Code/Omics Toolbox\n"
     ]
    },
    {
     "name": "stdout",
     "output_type": "stream",
     "text": [
      "Epoch 17: 100%|██████████| 392/392 [00:05<00:00, 65.74it/s, v_num=3, dim_reducer/val_loss=0.0148]"
     ]
    },
    {
     "name": "stderr",
     "output_type": "stream",
     "text": [
      "2025-04-17 18:41:59.433 | INFO     | omics_toolbox.config:<module>:11 - PROJ_ROOT path is: /Users/joaofelipe/Yale/Omics Toolbox/4_Code/Omics Toolbox\n",
      "2025-04-17 18:41:59.442 | INFO     | omics_toolbox.config:<module>:11 - PROJ_ROOT path is: /Users/joaofelipe/Yale/Omics Toolbox/4_Code/Omics Toolbox\n",
      "2025-04-17 18:41:59.454 | INFO     | omics_toolbox.config:<module>:11 - PROJ_ROOT path is: /Users/joaofelipe/Yale/Omics Toolbox/4_Code/Omics Toolbox\n",
      "2025-04-17 18:41:59.454 | INFO     | omics_toolbox.config:<module>:11 - PROJ_ROOT path is: /Users/joaofelipe/Yale/Omics Toolbox/4_Code/Omics Toolbox\n"
     ]
    },
    {
     "name": "stdout",
     "output_type": "stream",
     "text": [
      "Epoch 18:   0%|          | 0/392 [00:00<?, ?it/s, v_num=3, dim_reducer/val_loss=0.0151]          "
     ]
    },
    {
     "name": "stderr",
     "output_type": "stream",
     "text": [
      "2025-04-17 18:42:02.727 | INFO     | omics_toolbox.config:<module>:11 - PROJ_ROOT path is: /Users/joaofelipe/Yale/Omics Toolbox/4_Code/Omics Toolbox\n",
      "2025-04-17 18:42:02.743 | INFO     | omics_toolbox.config:<module>:11 - PROJ_ROOT path is: /Users/joaofelipe/Yale/Omics Toolbox/4_Code/Omics Toolbox\n",
      "2025-04-17 18:42:02.744 | INFO     | omics_toolbox.config:<module>:11 - PROJ_ROOT path is: /Users/joaofelipe/Yale/Omics Toolbox/4_Code/Omics Toolbox\n",
      "2025-04-17 18:42:02.753 | INFO     | omics_toolbox.config:<module>:11 - PROJ_ROOT path is: /Users/joaofelipe/Yale/Omics Toolbox/4_Code/Omics Toolbox\n"
     ]
    },
    {
     "name": "stdout",
     "output_type": "stream",
     "text": [
      "Epoch 18: 100%|██████████| 392/392 [00:05<00:00, 67.43it/s, v_num=3, dim_reducer/val_loss=0.0151]"
     ]
    },
    {
     "name": "stderr",
     "output_type": "stream",
     "text": [
      "2025-04-17 18:42:08.553 | INFO     | omics_toolbox.config:<module>:11 - PROJ_ROOT path is: /Users/joaofelipe/Yale/Omics Toolbox/4_Code/Omics Toolbox\n",
      "2025-04-17 18:42:08.574 | INFO     | omics_toolbox.config:<module>:11 - PROJ_ROOT path is: /Users/joaofelipe/Yale/Omics Toolbox/4_Code/Omics Toolbox\n",
      "2025-04-17 18:42:08.576 | INFO     | omics_toolbox.config:<module>:11 - PROJ_ROOT path is: /Users/joaofelipe/Yale/Omics Toolbox/4_Code/Omics Toolbox\n",
      "2025-04-17 18:42:08.598 | INFO     | omics_toolbox.config:<module>:11 - PROJ_ROOT path is: /Users/joaofelipe/Yale/Omics Toolbox/4_Code/Omics Toolbox\n"
     ]
    },
    {
     "name": "stdout",
     "output_type": "stream",
     "text": [
      "Epoch 19:   0%|          | 0/392 [00:00<?, ?it/s, v_num=3, dim_reducer/val_loss=0.0147]          "
     ]
    },
    {
     "name": "stderr",
     "output_type": "stream",
     "text": [
      "2025-04-17 18:42:11.834 | INFO     | omics_toolbox.config:<module>:11 - PROJ_ROOT path is: /Users/joaofelipe/Yale/Omics Toolbox/4_Code/Omics Toolbox\n",
      "2025-04-17 18:42:11.834 | INFO     | omics_toolbox.config:<module>:11 - PROJ_ROOT path is: /Users/joaofelipe/Yale/Omics Toolbox/4_Code/Omics Toolbox\n",
      "2025-04-17 18:42:11.841 | INFO     | omics_toolbox.config:<module>:11 - PROJ_ROOT path is: /Users/joaofelipe/Yale/Omics Toolbox/4_Code/Omics Toolbox\n",
      "2025-04-17 18:42:11.842 | INFO     | omics_toolbox.config:<module>:11 - PROJ_ROOT path is: /Users/joaofelipe/Yale/Omics Toolbox/4_Code/Omics Toolbox\n"
     ]
    },
    {
     "name": "stdout",
     "output_type": "stream",
     "text": [
      "Epoch 19: 100%|██████████| 392/392 [00:05<00:00, 66.19it/s, v_num=3, dim_reducer/val_loss=0.0147]"
     ]
    },
    {
     "name": "stderr",
     "output_type": "stream",
     "text": [
      "2025-04-17 18:42:17.753 | INFO     | omics_toolbox.config:<module>:11 - PROJ_ROOT path is: /Users/joaofelipe/Yale/Omics Toolbox/4_Code/Omics Toolbox\n",
      "2025-04-17 18:42:17.753 | INFO     | omics_toolbox.config:<module>:11 - PROJ_ROOT path is: /Users/joaofelipe/Yale/Omics Toolbox/4_Code/Omics Toolbox\n",
      "2025-04-17 18:42:17.753 | INFO     | omics_toolbox.config:<module>:11 - PROJ_ROOT path is: /Users/joaofelipe/Yale/Omics Toolbox/4_Code/Omics Toolbox\n",
      "2025-04-17 18:42:17.756 | INFO     | omics_toolbox.config:<module>:11 - PROJ_ROOT path is: /Users/joaofelipe/Yale/Omics Toolbox/4_Code/Omics Toolbox\n"
     ]
    },
    {
     "name": "stdout",
     "output_type": "stream",
     "text": [
      "Epoch 20:   0%|          | 0/392 [00:00<?, ?it/s, v_num=3, dim_reducer/val_loss=0.0134]          "
     ]
    },
    {
     "name": "stderr",
     "output_type": "stream",
     "text": [
      "2025-04-17 18:42:21.069 | INFO     | omics_toolbox.config:<module>:11 - PROJ_ROOT path is: /Users/joaofelipe/Yale/Omics Toolbox/4_Code/Omics Toolbox\n",
      "2025-04-17 18:42:21.106 | INFO     | omics_toolbox.config:<module>:11 - PROJ_ROOT path is: /Users/joaofelipe/Yale/Omics Toolbox/4_Code/Omics Toolbox\n",
      "2025-04-17 18:42:21.106 | INFO     | omics_toolbox.config:<module>:11 - PROJ_ROOT path is: /Users/joaofelipe/Yale/Omics Toolbox/4_Code/Omics Toolbox\n",
      "2025-04-17 18:42:21.117 | INFO     | omics_toolbox.config:<module>:11 - PROJ_ROOT path is: /Users/joaofelipe/Yale/Omics Toolbox/4_Code/Omics Toolbox\n"
     ]
    },
    {
     "name": "stdout",
     "output_type": "stream",
     "text": [
      "Epoch 20: 100%|██████████| 392/392 [00:05<00:00, 66.53it/s, v_num=3, dim_reducer/val_loss=0.0134]"
     ]
    },
    {
     "name": "stderr",
     "output_type": "stream",
     "text": [
      "2025-04-17 18:42:27.144 | INFO     | omics_toolbox.config:<module>:11 - PROJ_ROOT path is: /Users/joaofelipe/Yale/Omics Toolbox/4_Code/Omics Toolbox\n",
      "2025-04-17 18:42:27.144 | INFO     | omics_toolbox.config:<module>:11 - PROJ_ROOT path is: /Users/joaofelipe/Yale/Omics Toolbox/4_Code/Omics Toolbox\n",
      "2025-04-17 18:42:27.145 | INFO     | omics_toolbox.config:<module>:11 - PROJ_ROOT path is: /Users/joaofelipe/Yale/Omics Toolbox/4_Code/Omics Toolbox\n",
      "2025-04-17 18:42:27.161 | INFO     | omics_toolbox.config:<module>:11 - PROJ_ROOT path is: /Users/joaofelipe/Yale/Omics Toolbox/4_Code/Omics Toolbox\n"
     ]
    },
    {
     "name": "stdout",
     "output_type": "stream",
     "text": [
      "Epoch 21:   0%|          | 0/392 [00:00<?, ?it/s, v_num=3, dim_reducer/val_loss=0.014]           "
     ]
    },
    {
     "name": "stderr",
     "output_type": "stream",
     "text": [
      "2025-04-17 18:42:30.401 | INFO     | omics_toolbox.config:<module>:11 - PROJ_ROOT path is: /Users/joaofelipe/Yale/Omics Toolbox/4_Code/Omics Toolbox\n",
      "2025-04-17 18:42:30.403 | INFO     | omics_toolbox.config:<module>:11 - PROJ_ROOT path is: /Users/joaofelipe/Yale/Omics Toolbox/4_Code/Omics Toolbox\n",
      "2025-04-17 18:42:30.404 | INFO     | omics_toolbox.config:<module>:11 - PROJ_ROOT path is: /Users/joaofelipe/Yale/Omics Toolbox/4_Code/Omics Toolbox\n",
      "2025-04-17 18:42:30.404 | INFO     | omics_toolbox.config:<module>:11 - PROJ_ROOT path is: /Users/joaofelipe/Yale/Omics Toolbox/4_Code/Omics Toolbox\n"
     ]
    },
    {
     "name": "stdout",
     "output_type": "stream",
     "text": [
      "Epoch 21: 100%|██████████| 392/392 [00:06<00:00, 64.84it/s, v_num=3, dim_reducer/val_loss=0.014]"
     ]
    },
    {
     "name": "stderr",
     "output_type": "stream",
     "text": [
      "2025-04-17 18:42:36.434 | INFO     | omics_toolbox.config:<module>:11 - PROJ_ROOT path is: /Users/joaofelipe/Yale/Omics Toolbox/4_Code/Omics Toolbox\n",
      "2025-04-17 18:42:36.436 | INFO     | omics_toolbox.config:<module>:11 - PROJ_ROOT path is: /Users/joaofelipe/Yale/Omics Toolbox/4_Code/Omics Toolbox\n",
      "2025-04-17 18:42:36.449 | INFO     | omics_toolbox.config:<module>:11 - PROJ_ROOT path is: /Users/joaofelipe/Yale/Omics Toolbox/4_Code/Omics Toolbox\n",
      "2025-04-17 18:42:36.459 | INFO     | omics_toolbox.config:<module>:11 - PROJ_ROOT path is: /Users/joaofelipe/Yale/Omics Toolbox/4_Code/Omics Toolbox\n"
     ]
    },
    {
     "name": "stdout",
     "output_type": "stream",
     "text": [
      "Epoch 22:   0%|          | 0/392 [00:00<?, ?it/s, v_num=3, dim_reducer/val_loss=0.013]          "
     ]
    },
    {
     "name": "stderr",
     "output_type": "stream",
     "text": [
      "2025-04-17 18:42:39.796 | INFO     | omics_toolbox.config:<module>:11 - PROJ_ROOT path is: /Users/joaofelipe/Yale/Omics Toolbox/4_Code/Omics Toolbox\n",
      "2025-04-17 18:42:39.796 | INFO     | omics_toolbox.config:<module>:11 - PROJ_ROOT path is: /Users/joaofelipe/Yale/Omics Toolbox/4_Code/Omics Toolbox\n",
      "2025-04-17 18:42:39.796 | INFO     | omics_toolbox.config:<module>:11 - PROJ_ROOT path is: /Users/joaofelipe/Yale/Omics Toolbox/4_Code/Omics Toolbox\n",
      "2025-04-17 18:42:39.818 | INFO     | omics_toolbox.config:<module>:11 - PROJ_ROOT path is: /Users/joaofelipe/Yale/Omics Toolbox/4_Code/Omics Toolbox\n"
     ]
    },
    {
     "name": "stdout",
     "output_type": "stream",
     "text": [
      "Epoch 22: 100%|██████████| 392/392 [00:06<00:00, 64.78it/s, v_num=3, dim_reducer/val_loss=0.013]"
     ]
    },
    {
     "name": "stderr",
     "output_type": "stream",
     "text": [
      "2025-04-17 18:42:45.764 | INFO     | omics_toolbox.config:<module>:11 - PROJ_ROOT path is: /Users/joaofelipe/Yale/Omics Toolbox/4_Code/Omics Toolbox\n",
      "2025-04-17 18:42:45.764 | INFO     | omics_toolbox.config:<module>:11 - PROJ_ROOT path is: /Users/joaofelipe/Yale/Omics Toolbox/4_Code/Omics Toolbox\n",
      "2025-04-17 18:42:45.768 | INFO     | omics_toolbox.config:<module>:11 - PROJ_ROOT path is: /Users/joaofelipe/Yale/Omics Toolbox/4_Code/Omics Toolbox\n",
      "2025-04-17 18:42:45.782 | INFO     | omics_toolbox.config:<module>:11 - PROJ_ROOT path is: /Users/joaofelipe/Yale/Omics Toolbox/4_Code/Omics Toolbox\n"
     ]
    },
    {
     "name": "stdout",
     "output_type": "stream",
     "text": [
      "Epoch 22: 100%|██████████| 392/392 [00:09<00:00, 42.08it/s, v_num=3, dim_reducer/val_loss=0.0115]"
     ]
    },
    {
     "name": "stderr",
     "output_type": "stream",
     "text": [
      "Monitored metric dim_reducer/val_loss did not improve in the last 10 records. Best score: 0.011. Signaling Trainer to stop.\n"
     ]
    },
    {
     "name": "stdout",
     "output_type": "stream",
     "text": [
      "Epoch 22: 100%|██████████| 392/392 [00:09<00:00, 42.06it/s, v_num=3, dim_reducer/val_loss=0.0115]\n"
     ]
    },
    {
     "name": "stderr",
     "output_type": "stream",
     "text": [
      "2025-04-17 18:42:50.053 | INFO     | omics_toolbox.config:<module>:11 - PROJ_ROOT path is: /Users/joaofelipe/Yale/Omics Toolbox/4_Code/Omics Toolbox\n",
      "2025-04-17 18:42:50.053 | INFO     | omics_toolbox.config:<module>:11 - PROJ_ROOT path is: /Users/joaofelipe/Yale/Omics Toolbox/4_Code/Omics Toolbox\n",
      "2025-04-17 18:42:50.053 | INFO     | omics_toolbox.config:<module>:11 - PROJ_ROOT path is: /Users/joaofelipe/Yale/Omics Toolbox/4_Code/Omics Toolbox\n",
      "2025-04-17 18:42:50.053 | INFO     | omics_toolbox.config:<module>:11 - PROJ_ROOT path is: /Users/joaofelipe/Yale/Omics Toolbox/4_Code/Omics Toolbox\n",
      "2025-04-17 18:42:53.680 | INFO     | omics_toolbox.config:<module>:11 - PROJ_ROOT path is: /Users/joaofelipe/Yale/Omics Toolbox/4_Code/Omics Toolbox\n",
      "2025-04-17 18:42:53.680 | INFO     | omics_toolbox.config:<module>:11 - PROJ_ROOT path is: /Users/joaofelipe/Yale/Omics Toolbox/4_Code/Omics Toolbox\n",
      "2025-04-17 18:42:53.683 | INFO     | omics_toolbox.config:<module>:11 - PROJ_ROOT path is: /Users/joaofelipe/Yale/Omics Toolbox/4_Code/Omics Toolbox\n",
      "2025-04-17 18:42:53.683 | INFO     | omics_toolbox.config:<module>:11 - PROJ_ROOT path is: /Users/joaofelipe/Yale/Omics Toolbox/4_Code/Omics Toolbox\n",
      "2025-04-17 18:42:57.223 | INFO     | omics_toolbox.config:<module>:11 - PROJ_ROOT path is: /Users/joaofelipe/Yale/Omics Toolbox/4_Code/Omics Toolbox\n",
      "2025-04-17 18:42:57.223 | INFO     | omics_toolbox.config:<module>:11 - PROJ_ROOT path is: /Users/joaofelipe/Yale/Omics Toolbox/4_Code/Omics Toolbox\n",
      "2025-04-17 18:42:57.225 | INFO     | omics_toolbox.config:<module>:11 - PROJ_ROOT path is: /Users/joaofelipe/Yale/Omics Toolbox/4_Code/Omics Toolbox\n",
      "2025-04-17 18:42:57.230 | INFO     | omics_toolbox.config:<module>:11 - PROJ_ROOT path is: /Users/joaofelipe/Yale/Omics Toolbox/4_Code/Omics Toolbox\n"
     ]
    }
   ],
   "source": [
    "from omics_toolbox.dimchanger import DimChanger\n",
    "dimchanger = DimChanger.train(X_phate, X_pca, X_phate_vis, var_ratio, save_dir=DIMENSION_CHANGER_DIR)"
   ]
  },
  {
   "cell_type": "code",
   "execution_count": null,
   "metadata": {},
   "outputs": [],
   "source": []
  }
 ],
 "metadata": {
  "kernelspec": {
   "display_name": "omics_toolbox",
   "language": "python",
   "name": "python3"
  },
  "language_info": {
   "codemirror_mode": {
    "name": "ipython",
    "version": 3
   },
   "file_extension": ".py",
   "mimetype": "text/x-python",
   "name": "python",
   "nbconvert_exporter": "python",
   "pygments_lexer": "ipython3",
   "version": "3.10.17"
  }
 },
 "nbformat": 4,
 "nbformat_minor": 2
}
