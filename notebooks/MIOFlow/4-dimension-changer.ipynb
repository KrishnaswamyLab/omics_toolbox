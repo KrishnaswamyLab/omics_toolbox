{
 "cells": [
  {
   "cell_type": "markdown",
   "metadata": {},
   "source": [
    "# Dimension Changer\n",
    "\n",
    "Prerequisites:\n",
    "- You have preprocessed your adata using some time smoothing method into the data/preprocessed directory. [notebook: 3-time-pseudotime-meld]: \n",
    "    - gene values on _X_ (adata.X)\n",
    "    - phate embeddings of the data on _obsm_ (ex.: adata.obsm['X_phate])\n",
    "    - phate visualization space of the data on _obsm_ (ex.: adata.obsm['X_phate_visualization])\n",
    "    - any extra metadata on _obs_ (ex.: adata.obs['time_label'], adata.obs['disease_progression'], etc...)\n",
    "    - smoothed time in the on _obsm_ (ex.: adata.obsm['smooth_time'])\n",
    "\n",
    "\n",
    "In this notebook, we will:\n",
    "- Train a dimension changer network.\n",
    "# TODO: DEFINE WHAT THE DIM CHANGER IS DOING"
   ]
  },
  {
   "cell_type": "code",
   "execution_count": 2,
   "metadata": {},
   "outputs": [
    {
     "name": "stdout",
     "output_type": "stream",
     "text": [
      "../../data/processed\n",
      "../../dimension_changer\n"
     ]
    }
   ],
   "source": [
    "import scanpy as sc\n",
    "import os\n",
    "\n",
    "PROCESSED_DATA_DIR = os.path.join('../../data', 'processed')\n",
    "DIMENSION_CHANGER_DIR = os.path.join('../../dimension_changer')\n",
    "os.makedirs(DIMENSION_CHANGER_DIR, exist_ok=True)\n",
    "\n",
    "print(PROCESSED_DATA_DIR)\n",
    "print(DIMENSION_CHANGER_DIR)"
   ]
  },
  {
   "cell_type": "markdown",
   "metadata": {},
   "source": [
    "We start by loading the data that has all the necessary variables"
   ]
  },
  {
   "cell_type": "code",
   "execution_count": 3,
   "metadata": {},
   "outputs": [
    {
     "data": {
      "text/plain": [
       "AnnData object with n_obs × n_vars = 17944 × 18019\n",
       "    obs: 'time_label', 'smooth_time'\n",
       "    uns: 'pca'\n",
       "    obsm: 'X_pca', 'X_phate', 'X_phate_visualization'\n",
       "    varm: 'PCs'"
      ]
     },
     "execution_count": 3,
     "metadata": {},
     "output_type": "execute_result"
    }
   ],
   "source": [
    "adata = sc.read(os.path.join(PROCESSED_DATA_DIR, 'adata_time.h5ad'))\n",
    "adata"
   ]
  },
  {
   "cell_type": "code",
   "execution_count": 4,
   "metadata": {},
   "outputs": [],
   "source": [
    "X_phate = adata.obsm['X_phate']\n",
    "X_pca = adata.obsm['X_pca']\n",
    "X_phate_vis = adata.obsm['X_phate_visualization']\n",
    "var_ratio = adata.uns['pca']['variance_ratio']"
   ]
  },
  {
   "cell_type": "markdown",
   "metadata": {},
   "source": [
    "The dimchanger is currently defined under omics_toolbox/dimchanger.py"
   ]
  },
  {
   "cell_type": "code",
   "execution_count": 6,
   "metadata": {},
   "outputs": [
    {
     "ename": "ModuleNotFoundError",
     "evalue": "No module named 'decoder'",
     "output_type": "error",
     "traceback": [
      "\u001b[0;31m---------------------------------------------------------------------------\u001b[0m",
      "\u001b[0;31mModuleNotFoundError\u001b[0m                       Traceback (most recent call last)",
      "Cell \u001b[0;32mIn[6], line 1\u001b[0m\n\u001b[0;32m----> 1\u001b[0m \u001b[38;5;28;01mfrom\u001b[39;00m\u001b[38;5;250m \u001b[39m\u001b[38;5;21;01momics_toolbox\u001b[39;00m\u001b[38;5;21;01m.\u001b[39;00m\u001b[38;5;21;01mdimchanger\u001b[39;00m\u001b[38;5;250m \u001b[39m\u001b[38;5;28;01mimport\u001b[39;00m DimChanger\n\u001b[1;32m      2\u001b[0m dimchanger \u001b[38;5;241m=\u001b[39m DimChanger\u001b[38;5;241m.\u001b[39mtrain(X_phate, X_pca, X_phate_vis, var_ratio, save_dir\u001b[38;5;241m=\u001b[39mDIMENSION_CHANGER_DIR)\n",
      "File \u001b[0;32m~/Yale/Omics Toolbox/4_Code/Omics Toolbox/omics_toolbox/dimchanger.py:18\u001b[0m\n\u001b[1;32m     15\u001b[0m \u001b[38;5;28;01mimport\u001b[39;00m\u001b[38;5;250m \u001b[39m\u001b[38;5;21;01mtorch\u001b[39;00m\u001b[38;5;21;01m.\u001b[39;00m\u001b[38;5;21;01mnn\u001b[39;00m\u001b[38;5;250m \u001b[39m\u001b[38;5;28;01mas\u001b[39;00m\u001b[38;5;250m \u001b[39m\u001b[38;5;21;01mnn\u001b[39;00m\n\u001b[1;32m     16\u001b[0m \u001b[38;5;28;01mimport\u001b[39;00m\u001b[38;5;250m \u001b[39m\u001b[38;5;21;01mmatplotlib\u001b[39;00m\u001b[38;5;21;01m.\u001b[39;00m\u001b[38;5;21;01mpyplot\u001b[39;00m\u001b[38;5;250m \u001b[39m\u001b[38;5;28;01mas\u001b[39;00m\u001b[38;5;250m \u001b[39m\u001b[38;5;21;01mplt\u001b[39;00m\n\u001b[0;32m---> 18\u001b[0m \u001b[38;5;28;01mfrom\u001b[39;00m\u001b[38;5;250m \u001b[39m\u001b[38;5;21;01mdecoder\u001b[39;00m\u001b[38;5;250m \u001b[39m\u001b[38;5;28;01mimport\u001b[39;00m Decoder, predict\n\u001b[1;32m     20\u001b[0m \u001b[38;5;28;01mimport\u001b[39;00m\u001b[38;5;250m \u001b[39m\u001b[38;5;21;01mhydra\u001b[39;00m\n\u001b[1;32m     21\u001b[0m \u001b[38;5;28;01mfrom\u001b[39;00m\u001b[38;5;250m \u001b[39m\u001b[38;5;21;01momegaconf\u001b[39;00m\u001b[38;5;250m \u001b[39m\u001b[38;5;28;01mimport\u001b[39;00m DictConfig\n",
      "\u001b[0;31mModuleNotFoundError\u001b[0m: No module named 'decoder'"
     ]
    }
   ],
   "source": [
    "from omics_toolbox.dimchanger import DimChanger\n",
    "dimchanger = DimChanger.train(X_phate, X_pca, X_phate_vis, var_ratio, save_dir=DIMENSION_CHANGER_DIR)"
   ]
  },
  {
   "cell_type": "code",
   "execution_count": null,
   "metadata": {},
   "outputs": [],
   "source": []
  }
 ],
 "metadata": {
  "kernelspec": {
   "display_name": "omics_toolbox",
   "language": "python",
   "name": "python3"
  },
  "language_info": {
   "codemirror_mode": {
    "name": "ipython",
    "version": 3
   },
   "file_extension": ".py",
   "mimetype": "text/x-python",
   "name": "python",
   "nbconvert_exporter": "python",
   "pygments_lexer": "ipython3",
   "version": "3.10.17"
  }
 },
 "nbformat": 4,
 "nbformat_minor": 2
}
