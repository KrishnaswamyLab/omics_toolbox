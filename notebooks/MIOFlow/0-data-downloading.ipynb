{
 "cells": [
  {
   "cell_type": "markdown",
   "metadata": {},
   "source": [
    "# Data Downloading\n",
    "\n"
   ]
  },
  {
   "cell_type": "markdown",
   "metadata": {},
   "source": [
    "## 0. Install the omics_toolbox conda environment\n",
    "\n",
    "If you have not already set up the `omics_toolbox` environment, you can create it using the provided `environment.yml` file. Use the following command in your terminal:\n",
    "\n",
    "`conda env create -f environment.yml`"
   ]
  },
  {
   "cell_type": "markdown",
   "metadata": {},
   "source": [
    "## 1. Place your files into the ```data/raw``` directory\n",
    "\n",
    "Your data can be in multiple formats, the \"classic\" one being the Gene-Barcode matrices .tsv files.\n",
    "\n",
    "However, notebook 1-data-preprocessing explains how to preprocess other types of data. You basically just need to have a matrix.\n",
    "\n",
    "If you don't have a dataset to try running the algorithm on, you can use the following section to download the Embryoid Dataset from Mendeley.\n",
    "\n",
    "The next notebook assumes that your data will be on the:\n",
    "```bash \n",
    "data/raw/{{DATA_NAME}}\n",
    "```\n",
    "Running the tree command will show you the file structure."
   ]
  },
  {
   "cell_type": "code",
   "execution_count": 6,
   "metadata": {},
   "outputs": [
    {
     "name": "stdout",
     "output_type": "stream",
     "text": [
      "\u001b[1;36m../../data/raw\u001b[0m\n",
      "├── \u001b[1;36mcyclicEMT\u001b[0m\n",
      "│   ├── DN48_Output_Table_20241008.parquet\n",
      "│   ├── \u001b[1;36minterest_columns\u001b[0m\n",
      "│   │   ├── mean_intensity_columns.txt\n",
      "│   │   ├── median_intensity_columns.txt\n",
      "│   │   ├── std_intensity_columns.txt\n",
      "│   │   └── upperquartile_intensity_columns.txt\n",
      "│   └── interest_columns.zip\n",
      "├── \u001b[1;36mgerm_cells\u001b[0m\n",
      "│   ├── \u001b[1;36m2nd_vc2010\u001b[0m\n",
      "│   │   ├── barcodes.tsv\n",
      "│   │   ├── features.tsv\n",
      "│   │   └── matrix.mtx\n",
      "│   └── \u001b[1;36mvc2010_1\u001b[0m\n",
      "│       ├── barcodes.tsv\n",
      "│       ├── features.tsv\n",
      "│       └── matrix.mtx\n",
      "└── \u001b[1;36mscRNAseq\u001b[0m\n",
      "    ├── \u001b[1;36mT0_1A\u001b[0m\n",
      "    │   ├── barcodes.tsv\n",
      "    │   ├── genes.tsv\n",
      "    │   └── matrix.mtx\n",
      "    ├── \u001b[1;36mT2_3B\u001b[0m\n",
      "    │   ├── barcodes.tsv\n",
      "    │   ├── genes.tsv\n",
      "    │   └── matrix.mtx\n",
      "    ├── \u001b[1;36mT4_5C\u001b[0m\n",
      "    │   ├── barcodes.tsv\n",
      "    │   ├── genes.tsv\n",
      "    │   └── matrix.mtx\n",
      "    ├── \u001b[1;36mT6_7D\u001b[0m\n",
      "    │   ├── barcodes.tsv\n",
      "    │   ├── genes.tsv\n",
      "    │   └── matrix.mtx\n",
      "    └── \u001b[1;36mT8_9E\u001b[0m\n",
      "        ├── barcodes.tsv\n",
      "        ├── genes.tsv\n",
      "        └── matrix.mtx\n",
      "\n",
      "12 directories, 27 files\n"
     ]
    }
   ],
   "source": [
    "# Verify your file structure is correct\n",
    "!tree ../../data/raw"
   ]
  },
  {
   "cell_type": "markdown",
   "metadata": {},
   "source": [
    "<a id='loading'></a>\n",
    "## 2. [Optional] Downloading 10X data"
   ]
  },
  {
   "cell_type": "markdown",
   "metadata": {},
   "source": [
    "### Downloading Data from Mendeley Datasets\n",
    "\n",
    "The EB dataset is publically available as `scRNAseq.zip` at Mendelay Datasets at <https://data.mendeley.com/datasets/v6n743h5ng/>. \n",
    "\n",
    "Inside the scRNAseq folder, there are five subdirectories, and in each subdirectory are three files: `barcodes.tsv`, `genes.tsv`, and `matrix.mtx`. For more information about how CellRanger produces these files, check out the [Gene-Barcode Matrices Documentation](https://support.10xgenomics.com/single-cell-gene-expression/software/pipelines/latest/output/matrices).\n",
    "\n",
    "Make sure to download the files and save them under the `omics_toolbox/data/raw` directory.\n",
    "\n",
    "Here's the directory structure:\n",
    "```\n",
    "data\n",
    "└── raw\n",
    "    └── scRNAseq\n",
    "        ├── scRNAseq.zip\n",
    "        ├── T0_1A\n",
    "        │   ├── barcodes.tsv\n",
    "        │   ├── genes.tsv\n",
    "        │   └── matrix.mtx\n",
    "        ├── T2_3B\n",
    "        │   ├── barcodes.tsv\n",
    "        │   ├── genes.tsv\n",
    "        │   └── matrix.mtx\n",
    "        ├── T4_5C\n",
    "        │   ├── barcodes.tsv\n",
    "        │   ├── genes.tsv\n",
    "        │   └── matrix.mtx\n",
    "        ├── T6_7D\n",
    "        │   ├── barcodes.tsv\n",
    "        │   ├── genes.tsv\n",
    "        │   └── matrix.mtx\n",
    "        └── T8_9E\n",
    "            ├── barcodes.tsv\n",
    "            ├── genes.tsv\n",
    "            └── matrix.mtx\n",
    "└── processed\n",
    "└── interim\n",
    "└── external\n",
    "```\n",
    "\n"
   ]
  },
  {
   "cell_type": "code",
   "execution_count": null,
   "metadata": {},
   "outputs": [
    {
     "name": "stdout",
     "output_type": "stream",
     "text": [
      "../../data/raw\n"
     ]
    }
   ],
   "source": [
    "import os\n",
    "RAW_DATA_DIR = os.path.join('../../data', 'raw')\n",
    "\n",
    "print(RAW_DATA_DIR)"
   ]
  },
  {
   "cell_type": "markdown",
   "metadata": {},
   "source": [
    "You can verify that the structure matches the above inside the ```data/raw```"
   ]
  },
  {
   "cell_type": "code",
   "execution_count": 4,
   "metadata": {},
   "outputs": [
    {
     "name": "stdout",
     "output_type": "stream",
     "text": [
      "\u001b[1;36m../../data/raw\u001b[0m\n",
      "├── \u001b[1;36mcyclicEMT\u001b[0m\n",
      "│   ├── DN48_Output_Table_20241008.parquet\n",
      "│   ├── \u001b[1;36minterest_columns\u001b[0m\n",
      "│   │   ├── mean_intensity_columns.txt\n",
      "│   │   ├── median_intensity_columns.txt\n",
      "│   │   ├── std_intensity_columns.txt\n",
      "│   │   └── upperquartile_intensity_columns.txt\n",
      "│   └── interest_columns.zip\n",
      "├── \u001b[1;36mgerm_cells\u001b[0m\n",
      "│   ├── \u001b[1;36m2nd_vc2010\u001b[0m\n",
      "│   │   ├── barcodes.tsv\n",
      "│   │   ├── features.tsv\n",
      "│   │   └── matrix.mtx\n",
      "│   └── \u001b[1;36mvc2010_1\u001b[0m\n",
      "│       ├── barcodes.tsv\n",
      "│       ├── features.tsv\n",
      "│       └── matrix.mtx\n",
      "└── \u001b[1;36mscRNAseq\u001b[0m\n",
      "    ├── \u001b[1;36mT0_1A\u001b[0m\n",
      "    │   ├── barcodes.tsv\n",
      "    │   ├── genes.tsv\n",
      "    │   └── matrix.mtx\n",
      "    ├── \u001b[1;36mT2_3B\u001b[0m\n",
      "    │   ├── barcodes.tsv\n",
      "    │   ├── genes.tsv\n",
      "    │   └── matrix.mtx\n",
      "    ├── \u001b[1;36mT4_5C\u001b[0m\n",
      "    │   ├── barcodes.tsv\n",
      "    │   ├── genes.tsv\n",
      "    │   └── matrix.mtx\n",
      "    ├── \u001b[1;36mT6_7D\u001b[0m\n",
      "    │   ├── barcodes.tsv\n",
      "    │   ├── genes.tsv\n",
      "    │   └── matrix.mtx\n",
      "    └── \u001b[1;36mT8_9E\u001b[0m\n",
      "        ├── barcodes.tsv\n",
      "        ├── genes.tsv\n",
      "        └── matrix.mtx\n",
      "\n",
      "12 directories, 27 files\n"
     ]
    }
   ],
   "source": [
    "!tree ../../data/raw"
   ]
  },
  {
   "cell_type": "code",
   "execution_count": null,
   "metadata": {},
   "outputs": [],
   "source": []
  }
 ],
 "metadata": {
  "kernelspec": {
   "display_name": "omics_toolbox",
   "language": "python",
   "name": "python3"
  },
  "language_info": {
   "codemirror_mode": {
    "name": "ipython",
    "version": 3
   },
   "file_extension": ".py",
   "mimetype": "text/x-python",
   "name": "python",
   "nbconvert_exporter": "python",
   "pygments_lexer": "ipython3",
   "version": "3.10.17"
  }
 },
 "nbformat": 4,
 "nbformat_minor": 2
}
