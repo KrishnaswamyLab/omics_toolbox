{
 "cells": [
  {
   "cell_type": "code",
   "execution_count": 8,
   "metadata": {},
   "outputs": [],
   "source": [
    "import scanpy as sc\n",
    "import pathlib\n",
    "import numpy as np\n",
    "import phate"
   ]
  },
  {
   "cell_type": "code",
   "execution_count": 9,
   "metadata": {},
   "outputs": [],
   "source": [
    "adata = sc.read_h5ad('../../data/adata_emt_meld.h5ad')"
   ]
  },
  {
   "cell_type": "code",
   "execution_count": 10,
   "metadata": {},
   "outputs": [
    {
     "name": "stdout",
     "output_type": "stream",
     "text": [
      "Calculating PHATE...\n",
      "  Running PHATE on 19400 observations and 50 variables.\n",
      "  Calculating graph and diffusion operator...\n",
      "    Calculating KNN search...\n",
      "    Calculated KNN search in 18.92 seconds.\n",
      "    Calculating affinities...\n",
      "    Calculated affinities in 0.17 seconds.\n",
      "  Calculated graph and diffusion operator in 19.12 seconds.\n",
      "  Calculating landmark operator...\n",
      "    Calculating SVD...\n",
      "    Calculated SVD in 1.39 seconds.\n",
      "    Calculating KMeans...\n",
      "    Calculated KMeans in 2.92 seconds.\n",
      "  Calculated landmark operator in 5.42 seconds.\n",
      "  Calculating optimal t...\n",
      "    Automatically selected t = 28\n",
      "  Calculated optimal t in 1.45 seconds.\n",
      "  Calculating diffusion potential...\n",
      "  Calculated diffusion potential in 0.37 seconds.\n",
      "  Calculating metric MDS...\n",
      "  Calculated metric MDS in 183.39 seconds.\n",
      "Calculated PHATE in 209.77 seconds.\n"
     ]
    }
   ],
   "source": [
    "phate_op = phate.PHATE(n_jobs=-1, n_components=10, random_state=42)\n",
    "X_phate = phate_op.fit_transform(adata.obsm['X_pca'])"
   ]
  },
  {
   "cell_type": "code",
   "execution_count": 11,
   "metadata": {},
   "outputs": [
    {
     "name": "stdout",
     "output_type": "stream",
     "text": [
      "Calculating metric MDS...\n",
      "Calculated metric MDS in 4.13 seconds.\n"
     ]
    }
   ],
   "source": [
    "phate_op.set_params(n_components=2)\n",
    "X_phate_vis = phate_op.transform()"
   ]
  },
  {
   "cell_type": "code",
   "execution_count": 12,
   "metadata": {},
   "outputs": [],
   "source": [
    "X_pca = adata.obsm['X_pca']\n",
    "var_ratio = adata.uns['pca']['variance_ratio']"
   ]
  },
  {
   "cell_type": "code",
   "execution_count": 13,
   "metadata": {},
   "outputs": [],
   "source": [
    "pathlib.Path('../../data_main/').mkdir(parents=True, exist_ok=True)\n",
    "np.save('../../data_main/X_pca.npy', X_pca)\n",
    "np.save('../../data_main/X_phate.npy', X_phate)\n",
    "np.save('../../data_main/X_phate_vis.npy', X_phate_vis)\n",
    "np.save('../../data_main/var_ratio.npy', var_ratio)\n"
   ]
  },
  {
   "cell_type": "code",
   "execution_count": 14,
   "metadata": {},
   "outputs": [],
   "source": [
    "# for debugging plots\n",
    "np.save('../../data_main/meld_likelihood.npy', adata.obs['meld_likelihood'].values)"
   ]
  },
  {
   "cell_type": "code",
   "execution_count": null,
   "metadata": {},
   "outputs": [],
   "source": []
  }
 ],
 "metadata": {
  "kernelspec": {
   "display_name": "emp_project",
   "language": "python",
   "name": "python3"
  },
  "language_info": {
   "codemirror_mode": {
    "name": "ipython",
    "version": 3
   },
   "file_extension": ".py",
   "mimetype": "text/x-python",
   "name": "python",
   "nbconvert_exporter": "python",
   "pygments_lexer": "ipython3",
   "version": "3.9.21"
  }
 },
 "nbformat": 4,
 "nbformat_minor": 2
}
