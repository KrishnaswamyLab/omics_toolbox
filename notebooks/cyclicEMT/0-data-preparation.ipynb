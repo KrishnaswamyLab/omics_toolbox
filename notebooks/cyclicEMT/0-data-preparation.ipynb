{
 "cells": [
  {
   "cell_type": "markdown",
   "id": "bbfadad7",
   "metadata": {},
   "source": [
    "# Preparing the data to be run on the MIOFlow notebooks."
   ]
  },
  {
   "cell_type": "code",
   "execution_count": 17,
   "id": "134784e4",
   "metadata": {},
   "outputs": [],
   "source": [
    "import phate\n",
    "import scprep\n",
    "import meld\n",
    "import pandas as pd\n",
    "import scanpy as sc\n",
    "import os"
   ]
  },
  {
   "cell_type": "code",
   "execution_count": 18,
   "id": "4097766a",
   "metadata": {},
   "outputs": [],
   "source": [
    "data_path = '../../data/raw/cyclicEMT/DN48_Output_Table_20241008.parquet'"
   ]
  },
  {
   "cell_type": "code",
   "execution_count": 19,
   "id": "dcc66bb7",
   "metadata": {},
   "outputs": [],
   "source": [
    "df = pd.read_parquet(data_path)"
   ]
  },
  {
   "cell_type": "code",
   "execution_count": 20,
   "id": "4c0e758a",
   "metadata": {},
   "outputs": [],
   "source": [
    "# Read the columns of interest from the text file\n",
    "interest_columns = '../../data/raw/cyclicEMT/interest_columns/upperquartile_intensity_columns.txt'\n",
    "with open(interest_columns, 'r') as file:\n",
    "    columns_of_interest = [line.strip() for line in file]"
   ]
  },
  {
   "cell_type": "code",
   "execution_count": 21,
   "id": "ffc888c8",
   "metadata": {},
   "outputs": [],
   "source": [
    "# Randomly sample 20000 rows\n",
    "df = df.sample(n=20000, random_state=42)"
   ]
  },
  {
   "cell_type": "code",
   "execution_count": 22,
   "id": "ec6a692c",
   "metadata": {},
   "outputs": [
    {
     "data": {
      "text/plain": [
       "(20000, 66)"
      ]
     },
     "execution_count": 22,
     "metadata": {},
     "output_type": "execute_result"
    }
   ],
   "source": [
    "# Filter the DataFrame to keep only the columns in the text file\n",
    "df_filtered = df[df.columns.intersection(columns_of_interest)]\n",
    "df_filtered = df_filtered.dropna()\n",
    "df_filtered.shape"
   ]
  },
  {
   "cell_type": "code",
   "execution_count": 23,
   "id": "d4ffc90e",
   "metadata": {},
   "outputs": [
    {
     "data": {
      "text/plain": [
       "(20000, 61)"
      ]
     },
     "execution_count": 23,
     "metadata": {},
     "output_type": "execute_result"
    }
   ],
   "source": [
    "#Drop metadata related columns\n",
    "df_processed = df_filtered.drop(['Cellprof_Metadata_Well_ID','Metadata_Field','EM_Class','CC_Class','006_Metadata_Treatment'],axis=1)\n",
    "df_processed.shape"
   ]
  },
  {
   "cell_type": "code",
   "execution_count": 24,
   "id": "d07aba94",
   "metadata": {},
   "outputs": [
    {
     "data": {
      "text/plain": [
       "(20000, 61)"
      ]
     },
     "execution_count": 24,
     "metadata": {},
     "output_type": "execute_result"
    }
   ],
   "source": [
    "# Drop rows with missing values\n",
    "df_processed = df_processed.dropna()\n",
    "# Drop columns with missing values\n",
    "df_processed = df_processed.dropna(axis=1)\n",
    "#Drop cols with unique values\n",
    "df_processed = df_processed.loc[:, df_processed.nunique() > 1]\n",
    "df_processed.shape\n"
   ]
  },
  {
   "cell_type": "code",
   "execution_count": 25,
   "id": "c4420e13",
   "metadata": {},
   "outputs": [
    {
     "data": {
      "text/plain": [
       "(20000,)"
      ]
     },
     "execution_count": 25,
     "metadata": {},
     "output_type": "execute_result"
    }
   ],
   "source": [
    "cell_class = df_filtered['EM_Class']\n",
    "time_label = df_filtered['006_Metadata_Treatment']\n",
    "cell_cycle_label = df_filtered['CC_Class']\n",
    "cell_class.shape"
   ]
  },
  {
   "cell_type": "code",
   "execution_count": 26,
   "id": "bc1bcf27",
   "metadata": {},
   "outputs": [
    {
     "name": "stderr",
     "output_type": "stream",
     "text": [
      "/Users/joaofelipe/miniconda3/envs/omics_toolbox/lib/python3.10/site-packages/scprep/plot/utils.py:104: UserWarning: FigureCanvasAgg is non-interactive, and thus cannot be shown\n",
      "  fig.show()\n"
     ]
    },
    {
     "data": {
      "text/plain": [
       "<Axes: xlabel='Library size', ylabel='Number of cells'>"
      ]
     },
     "execution_count": 26,
     "metadata": {},
     "output_type": "execute_result"
    },
    {
     "data": {
      "image/png": "[encoded data removed]",
      "text/plain": [
       "<Figure size 640x480 with 1 Axes>"
      ]
     },
     "metadata": {},
     "output_type": "display_data"
    }
   ],
   "source": [
    "percentile = 97\n",
    "scprep.plot.plot_library_size(df_processed, percentile=percentile)"
   ]
  },
  {
   "cell_type": "code",
   "execution_count": 27,
   "id": "1edfd320",
   "metadata": {},
   "outputs": [
    {
     "data": {
      "text/plain": [
       "(19400, 61)"
      ]
     },
     "execution_count": 27,
     "metadata": {},
     "output_type": "execute_result"
    }
   ],
   "source": [
    "#Need to pass the cell_class so the labels will be maintained when removing cells.\n",
    "\n",
    "df_cleaned,cell_class = scprep.filter.filter_library_size(df_processed, sample_labels= cell_class, percentile=percentile, keep_cells='below')\n",
    "df_cleaned,time_label = scprep.filter.filter_library_size(df_processed, sample_labels= time_label, percentile=percentile, keep_cells='below')\n",
    "df_cleaned,cell_cycle_label = scprep.filter.filter_library_size(df_processed, sample_labels= cell_cycle_label, percentile=percentile, keep_cells='below')\n",
    "\n",
    "\n",
    "df_cleaned.shape"
   ]
  },
  {
   "cell_type": "code",
   "execution_count": 28,
   "id": "c6e34bde",
   "metadata": {},
   "outputs": [
    {
     "data": {
      "text/plain": [
       "(19400, 60)"
      ]
     },
     "execution_count": 28,
     "metadata": {},
     "output_type": "execute_result"
    }
   ],
   "source": [
    "df_cleaned = scprep.filter.filter_rare_genes(df_cleaned, min_cells=10000)\n",
    "df_cleaned = scprep.normalize.library_size_normalize(df_cleaned)\n",
    "df_cleaned.shape"
   ]
  },
  {
   "cell_type": "code",
   "execution_count": 29,
   "id": "709c8ee8",
   "metadata": {},
   "outputs": [],
   "source": [
    "obs_df = pd.DataFrame({\n",
    "    'time_label': time_label,\n",
    "    'cell_class': cell_class,\n",
    "    'cell_cycle_label' : cell_cycle_label\n",
    "})"
   ]
  },
  {
   "cell_type": "code",
   "execution_count": 30,
   "id": "7291922c",
   "metadata": {},
   "outputs": [
    {
     "name": "stderr",
     "output_type": "stream",
     "text": [
      "/Users/joaofelipe/miniconda3/envs/omics_toolbox/lib/python3.10/site-packages/anndata/_core/aligned_df.py:68: ImplicitModificationWarning: Transforming to str index.\n",
      "  warnings.warn(\"Transforming to str index.\", ImplicitModificationWarning)\n"
     ]
    }
   ],
   "source": [
    "adata_emt = sc.AnnData(X=df_cleaned,obs=obs_df)"
   ]
  },
  {
   "cell_type": "code",
   "execution_count": 32,
   "id": "6af8a969",
   "metadata": {},
   "outputs": [],
   "source": [
    "data_name = 'cyclicEMT'\n",
    "PROCESSED_DATA_DIR = os.path.join('../../data', 'processed',data_name)\n",
    "\n",
    "adata_emt.write(os.path.join(PROCESSED_DATA_DIR, 'adata.h5ad'))"
   ]
  }
 ],
 "metadata": {
  "kernelspec": {
   "display_name": "omics_toolbox",
   "language": "python",
   "name": "python3"
  },
  "language_info": {
   "codemirror_mode": {
    "name": "ipython",
    "version": 3
   },
   "file_extension": ".py",
   "mimetype": "text/x-python",
   "name": "python",
   "nbconvert_exporter": "python",
   "pygments_lexer": "ipython3",
   "version": "3.10.17"
  }
 },
 "nbformat": 4,
 "nbformat_minor": 5
}
